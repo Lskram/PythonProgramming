{
 "cells": [
  {
   "cell_type": "markdown",
   "metadata": {},
   "source": [
    "# บทที่ 4. พื้นฐานโปรแกรมภาษาไพธอน\n",
    "\n",
    "บทเรียนนี้จะอธิบายถึงพื้นฐานของโปรแกรมภาษาไพธอน ซึ่งประกอบไปด้วยไวยากรณ์โครงสร้างของโปรแกรม ข้อควรจำที่สำคัญในการใช้ไวยากรณ์ของภาษาไพธอน คำสั่งในการรับข้อมูลเข้าและการแสดผล \n",
    "\n",
    "เนื้อหาในบทเรียนนี้จะเป็นส่วนความรู้เบื้องต้นที่ทำให้สามารถเขียนโปรแกรมภาษาไพธอนอย่างง่ายได้ ตลอดจนวิธีการรันโปรแกรมที่เขียนด้วยภาษาไพธอน  โดยใช้โปรแกรมแปลภาษาไพธอนทั้งในโหมดโต้ตอบและโหมดสคริปต์"
   ]
  },
  {
   "cell_type": "markdown",
   "metadata": {},
   "source": [
    "### การแสดงคําสั่งหลายบรรทัด (Multi-Line Statements)"
   ]
  },
  {
   "cell_type": "code",
   "execution_count": 3,
   "metadata": {},
   "outputs": [],
   "source": [
    "total = 1 + 2 + 3"
   ]
  },
  {
   "cell_type": "code",
   "execution_count": 2,
   "metadata": {},
   "outputs": [],
   "source": [
    "total = 1 + \\\n",
    "        2 + \\\n",
    "        3"
   ]
  },
  {
   "cell_type": "markdown",
   "metadata": {},
   "source": [
    "### การใช้เครื่องหมายคําพูดในภาษาไพธอน (Quotation in Python)"
   ]
  },
  {
   "cell_type": "code",
   "execution_count": 4,
   "metadata": {},
   "outputs": [],
   "source": [
    "word = 'word'"
   ]
  },
  {
   "cell_type": "code",
   "execution_count": 5,
   "metadata": {},
   "outputs": [],
   "source": [
    "sentence = \"This is a sentence.\""
   ]
  },
  {
   "cell_type": "code",
   "execution_count": 21,
   "metadata": {},
   "outputs": [],
   "source": [
    "paragraph = \"\"\"This is a paragraph. \n",
    "It is made up of multiple lines and sentences.\"\"\""
   ]
  },
  {
   "cell_type": "code",
   "execution_count": 22,
   "metadata": {},
   "outputs": [
    {
     "name": "stdout",
     "output_type": "stream",
     "text": [
      "This is a paragraph. \n",
      "It is made up of multiple lines and sentences.\n"
     ]
    }
   ],
   "source": [
    "print(paragraph)"
   ]
  },
  {
   "cell_type": "markdown",
   "metadata": {},
   "source": [
    "### คําอธิบายโปรแกรม (Comment)"
   ]
  },
  {
   "cell_type": "code",
   "execution_count": 23,
   "metadata": {},
   "outputs": [],
   "source": [
    "# This is line comment\n",
    "a = 10 # This is line comment"
   ]
  },
  {
   "cell_type": "code",
   "execution_count": 24,
   "metadata": {},
   "outputs": [
    {
     "name": "stdout",
     "output_type": "stream",
     "text": [
      "10\n"
     ]
    }
   ],
   "source": [
    "''' This is block comment that\n",
    "Convers two lines.'''\n",
    "\n",
    "a = 10\n",
    "print(a)"
   ]
  },
  {
   "cell_type": "markdown",
   "metadata": {},
   "source": [
    "### หลายคําสั่งภายในบรรทัดเดียว (Multiple Statements on a Single Line)\n",
    "\n",
    "ผู้เขียนโปรแกรมสามารถใชBเครื่องหมายเซมิโคลอน (“ ; ”) เพื่อคัดระหว่างคําสั่งที่อยู่ภายใน บรรทัดเดียวกันได้ ดังแสดงในตัวอย่าง"
   ]
  },
  {
   "cell_type": "code",
   "execution_count": 25,
   "metadata": {},
   "outputs": [
    {
     "name": "stdout",
     "output_type": "stream",
     "text": [
      "Python \n",
      "\n"
     ]
    }
   ],
   "source": [
    "import sys; x = 'Python'; print(\"{} \\n\".format(x))"
   ]
  },
  {
   "cell_type": "code",
   "execution_count": 26,
   "metadata": {},
   "outputs": [
    {
     "name": "stdout",
     "output_type": "stream",
     "text": [
      "Python \n",
      "\n"
     ]
    }
   ],
   "source": [
    "import sys\n",
    "x = 'Python'\n",
    "print(\"{} \\n\".format(x))"
   ]
  },
  {
   "cell_type": "markdown",
   "metadata": {},
   "source": [
    "### บรรทัดว่าง (Blank lines)\n",
    "\n",
    "บรรทัดที่มีเพียงแค่ช่องว่างเพียงอย่างเดียว หรืออาจมีเพียงคำอธิบายโปรแกรม จะถูกเรียกว่าเป็นบรรทัดว่าง (Blank lines) และตัวแปลภาษาไพธอนจะไม่สนใจบรรทัดว่างเหล่านี้ ในการเขียนโปรแกรมภายในโค้ดที่เราสร้างขึ้นจะสังเกตุเห็นว่า สามารถมีบรรทัดว่างได้ทั่วไปตลอดทั้งโค้ดโปรแกรม และในการแปลภาษาตัวแปรภาษาจะไม่นำบรรทัดว่างเหล่านี้ไปตีความ"
   ]
  },
  {
   "cell_type": "markdown",
   "metadata": {},
   "source": [
    "<hr />"
   ]
  },
  {
   "cell_type": "markdown",
   "metadata": {},
   "source": [
    "## การรับข้อมูลเข้าและการแสดงผล"
   ]
  },
  {
   "cell_type": "code",
   "execution_count": null,
   "metadata": {},
   "outputs": [],
   "source": []
  }
 ],
 "metadata": {
  "kernelspec": {
   "display_name": "Python 3",
   "language": "python",
   "name": "python3"
  },
  "language_info": {
   "codemirror_mode": {
    "name": "ipython",
    "version": 3
   },
   "file_extension": ".py",
   "mimetype": "text/x-python",
   "name": "python",
   "nbconvert_exporter": "python",
   "pygments_lexer": "ipython3",
   "version": "3.7.3"
  }
 },
 "nbformat": 4,
 "nbformat_minor": 2
}
