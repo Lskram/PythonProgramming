{
 "cells": [
  {
   "cell_type": "code",
   "execution_count": 101,
   "metadata": {},
   "outputs": [],
   "source": [
    "from firebase.firebase import FirebaseApplication, FirebaseAuthentication"
   ]
  },
  {
   "cell_type": "code",
   "execution_count": 112,
   "metadata": {},
   "outputs": [
    {
     "data": {
      "text/plain": [
       "'-LBsgNlUlMnTE6ulsZk6'"
      ]
     },
     "execution_count": 112,
     "metadata": {},
     "output_type": "execute_result"
    }
   ],
   "source": [
    "databaseURL = 'https://miniukm17.firebaseio.com'\n",
    "\n",
    "firebase = FirebaseApplication(databaseURL, authentication=None)\n",
    "\n",
    "data = {'name': 'phisan sookkhee', \n",
    "        'age': 37, \n",
    "        'created_at': datetime.datetime.now()}\n",
    "\n",
    "snapshot = firebase.post('/users', data)\n",
    "\n",
    "\n",
    "snapshot['name']"
   ]
  },
  {
   "cell_type": "code",
   "execution_count": 113,
   "metadata": {},
   "outputs": [
    {
     "data": {
      "text/plain": [
       "{'-LBkXYl9u3mtYQ128Bhr': {'age': 26,\n",
       "  'created_at': '2018-05-05T13:42:35.989899',\n",
       "  'name': 'Ozgur Vatansever'},\n",
       " '-LBkYVWlv73vsTu3bbQ1': {'age': 37,\n",
       "  'created_at': '2018-05-05T13:46:44.808584',\n",
       "  'name': 'phisan sookkhee'},\n",
       " '-LBsdin-7b_OfBkicOHk': {'age': 37,\n",
       "  'created_at': '2018-05-07T03:30:44.057863',\n",
       "  'name': 'phisan sookkhee'},\n",
       " '-LBse6mzoE-y8h-rWjxP': {'age': 37,\n",
       "  'created_at': '2018-05-07T03:32:26.784280',\n",
       "  'name': 'phisan sookkhee'},\n",
       " '-LBseKKkw3hVRQhphH8e': {'age': 37,\n",
       "  'created_at': '2018-05-07T03:33:22.335748',\n",
       "  'name': 'phisan sookkhee'},\n",
       " '-LBsfjB6mcyBwSlOTF9K': {'age': 37,\n",
       "  'created_at': '2018-05-07T03:39:30.725850',\n",
       "  'name': 'phisan sookkhee'},\n",
       " '-LBsfpV0aCRH7waAApSs': {'age': 37,\n",
       "  'created_at': '2018-05-07T03:39:56.619152',\n",
       "  'name': 'phisan sookkhee'},\n",
       " '-LBsgMKedDbVVkYu5DOm': {'age': 37,\n",
       "  'created_at': '2018-05-07T03:42:15.407113',\n",
       "  'name': 'phisan sookkhee'},\n",
       " '-LBsgNlUlMnTE6ulsZk6': {'age': 37,\n",
       "  'created_at': '2018-05-07T03:42:21.284217',\n",
       "  'name': 'phisan sookkhee'}}"
      ]
     },
     "execution_count": 113,
     "metadata": {},
     "output_type": "execute_result"
    }
   ],
   "source": [
    "firebase = FirebaseApplication(databaseURL, authentication=None)\n",
    "result = firebase.get('/users', None)\n",
    "\n",
    "result"
   ]
  },
  {
   "cell_type": "code",
   "execution_count": null,
   "metadata": {},
   "outputs": [],
   "source": []
  }
 ],
 "metadata": {
  "kernelspec": {
   "display_name": "Python 3",
   "language": "python",
   "name": "python3"
  },
  "language_info": {
   "codemirror_mode": {
    "name": "ipython",
    "version": 3
   },
   "file_extension": ".py",
   "mimetype": "text/x-python",
   "name": "python",
   "nbconvert_exporter": "python",
   "pygments_lexer": "ipython3",
   "version": "3.6.5"
  }
 },
 "nbformat": 4,
 "nbformat_minor": 2
}
