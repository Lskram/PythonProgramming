{
 "cells": [
  {
   "cell_type": "markdown",
   "metadata": {},
   "source": [
    "# ตัวแปรและประเภทข้อมูล"
   ]
  },
  {
   "cell_type": "markdown",
   "metadata": {},
   "source": [
    "หน่วยการเรียนนี้ ผู้เรียนจะได้เรียนรู้เกี่ยวกับตัวแปรและประข้อมูลในภาษา Python\n",
    "\n",
    "\n",
    "เนื้อหาประกอบไปด้วย<br/>\n",
    "1. การประกาศตัวแปรและการนำตัวแปรไปใช้งานในโปรแกรม \n",
    "1. การอธิบายถึงข้อมูลประเภทต่างๆ ที่เป็น Primitive datatype ในภาษา Python และรวมทั้งฟังก์ชันสำหรับการใช้งานกับตัวแปร\n",
    "<hr/>"
   ]
  },
  {
   "cell_type": "markdown",
   "metadata": {},
   "source": [
    "## ตัวแปร"
   ]
  },
  {
   "cell_type": "markdown",
   "metadata": {},
   "source": [
    "***ตัวแปร (variable)*** คือชื่อ หรือเครื่องหมายที่กำหนดขึ้นสำหรับใช้เก็บค่าในหน่วยความจำ \n",
    "\n",
    "\n",
    "ตัวแปรจะมีชื่อ (identifier) สำหรับใช้ในการอ้างถึงข้อมูล ในการเขียนโปรแกรม ค่าของตัวแปรสามารถที่จะกำหนดได้ใน run-time หรือเปลี่ยนแปลงอยู่ตลอดเวลาในขณะที่โปรแกรมทำงาน (executing)\n",
    "\n",
    "\n",
    "ในการเขียนโปรแกรมคอมพิวเตอร์ ตัวแปรจะแตกต่างจากตัวแปรในทางคณิตศาสตร์ ค่าของตัวแปรนั้นไม่จำเป็นต้องประกอบไปด้วยสูตรหรือสมการที่สมบูรณ์เหมือนกับในคณิตศาสตร์ \n",
    "\n",
    "\n",
    "ในคอมพิวเตอร์ ตัวแปรนั้นอาจจะมีการทำงานซ้ำ ๆ เช่น การกำหนดค่าในที่หนึ่ง และนำไปใช้อีกที่หนึ่งในโปรแกรม และนอกจากนี้ยังสามารถกำหนดค่าใหม่ให้กับตัวแปรได้ตลอดเวลา ต่อไปเป็นตัวอย่างของการประกาศตัวแปรในภาษา Python"
   ]
  },
  {
   "cell_type": "code",
   "execution_count": 22,
   "metadata": {},
   "outputs": [],
   "source": [
    "a = 3\n",
    "b = 4.92\n",
    "c = \"marcuscode.com\"\n",
    "c = 10.5"
   ]
  },
  {
   "cell_type": "markdown",
   "metadata": {},
   "source": [
    "การประกาศตัวแปรในภาษา Python นั้นไม่จำเป็นต้องระบุประเภทของตัวแปรในตอนที่ประกาศเหมือนในภาษา C หรือ Java \n",
    "\n",
    "* ในตัวแปร a มีค่าเป็น 3 และเป็นประเภทเป็น Integer \n",
    "* ตัวแปร b มีค่าเป็น 4.92 และเป็นประเภทเป็น Float \n",
    "* และตัวแปร c มีค่าเป็น \"marcuscode.com\" และเป็นประเภท String \n",
    "\n",
    "และในภายหลังเราได้เปลี่ยนค่าของตัวแปร c เป็น 10.5 ทำให้ตัวแปร c มีชนิดข้อมูลกลายเป็นประเภท Float"
   ]
  },
  {
   "cell_type": "code",
   "execution_count": 61,
   "metadata": {},
   "outputs": [],
   "source": [
    "a, b = 1, 2\n",
    "x = y = z = 10"
   ]
  },
  {
   "cell_type": "markdown",
   "metadata": {},
   "source": [
    "ในภาษา Python สนับสนุนการกำหนดค่าให้กับตัวแปรหลายค่าในคำสั่งเดียว ในตัวอย่าง เป็นการกำหนดค่า 1 และ 2 กับตัวแปร a และ b ตามลำดับ \n",
    "\n",
    "และในคำสั่งต่อมาเป็นการกำหนดค่า 10 ให้กับตัวแปร x y และ z ซึ่งทำให้การเขียนโปรแกรมสะดวกและรวดเร็วมากขึ้น\n",
    "\n",
    "โดยผลของการกำหนดค่าของตัวแปรด้านบน เป็นดังนี้"
   ]
  },
  {
   "cell_type": "code",
   "execution_count": 65,
   "metadata": {},
   "outputs": [
    {
     "name": "stdout",
     "output_type": "stream",
     "text": [
      "a =  1\n",
      "b =  2\n",
      "x =  10\n",
      "y =  10\n",
      "z =  10\n"
     ]
    }
   ],
   "source": [
    "print(\"a = \" , a)\n",
    "print(\"b = \" , b)\n",
    "print(\"x = \" , x)\n",
    "print(\"y = \" , y)\n",
    "print(\"z = \" , z)"
   ]
  },
  {
   "cell_type": "markdown",
   "metadata": {},
   "source": [
    "**การกำหนดค่าให้กับตัวแปรแบบขนาน**<br/>\n",
    "ทำให้การกำหนดค่าให้กับตัวแปรทำได้สะดวกและรวดเร็วยิ่งขึ้น<br/>\n",
    "การประยุกต์ใช้ เช่น การสลับค่าระหว่างตัวแปร"
   ]
  },
  {
   "cell_type": "code",
   "execution_count": 67,
   "metadata": {},
   "outputs": [
    {
     "name": "stdout",
     "output_type": "stream",
     "text": [
      "20\n",
      "10\n"
     ]
    }
   ],
   "source": [
    "a = 10\n",
    "b = 20\n",
    "a, b = b, a\n",
    "\n",
    "print(a)\n",
    "print(b)"
   ]
  },
  {
   "cell_type": "markdown",
   "metadata": {},
   "source": [
    "## หลักการตั้งชื่อตัวแปรในภาษาไพทอน"
   ]
  },
  {
   "cell_type": "markdown",
   "metadata": {},
   "source": [
    "ไพทอนไม่จำเป็นต้องประกาศตัวแปรก่อนใช้งาน สามารถกำหนดค่าขึ้นมา และเรียกใช้ได้เลย แต่การตัวชื่อตัวแปรของ ไพทอนต้องเป็นไปตามกฏดังนี้\n",
    "\n",
    "\n",
    "1. ต้องขึ้นต้นด้วยตัวอักษร ห้ามใช้ตัวเลขหรือสัญลักษณ์ใดๆ\n",
    "1. ห้ามมีช่องว่างหรือเว้นวรรค\n",
    "1. ห้ามใช้เครื่องหมายต่อไปนี้ในการประกาศตัวแปร !...@...#...$...%...^...&...*...(...)...-...=...+...~\n",
    "1. ควรตั้งชื่อตัวแปรที่สื่อความหมายให้ชัดเจน เพื่อผู้อื่นตีความหมายได้เข้าใจ แต่ถ้ามีความหมายยาวมาก ให้ย่อ เช่น student_name ควรใช้ st_name เป็นต้น\n",
    "1. ตัวแปรที่มีตัวพิมพ์ใหญ่และตัวพิมพ์เล็กผสมกันจะมีความหมายต่างกับตัวพิมพ์เล็กเพียงอย่างเดียว เช่น St_Id แตกต่างจากตัวแปร st_id เป็นต้น"
   ]
  },
  {
   "cell_type": "markdown",
   "metadata": {},
   "source": [
    "##  คำสงวน ในภาษาไพทอน\n",
    "\n",
    "คำสงวน คือชื่อหรือคำที่ภาษา Python (ไพทอน) ไว้ใช้เฉพาะเพื่อเป็นคำสั่ง หรือมีไว้เพื่อเขียนเป็นโครงสร้างของตัวภาษาเอง โดยคำสงวนของ Python จะมีทั้งหมด 31 คำ ดังนี้"
   ]
  },
  {
   "cell_type": "markdown",
   "metadata": {},
   "source": [
    "and, as, assert, break, class, continue, def, del, elif, else, except, exec, finally, for, from, global, if, import, in, is, lambda, not, or, pass, print, raise, return, try, while, with, yield"
   ]
  },
  {
   "cell_type": "markdown",
   "metadata": {},
   "source": [
    "## ชนิดข้อมูลของไพทอน "
   ]
  },
  {
   "cell_type": "markdown",
   "metadata": {},
   "source": [
    "<style>\n",
    "table {float:left}\n",
    "</style>\n",
    "\n",
    "มีชนิดข้อมูลพื้นฐานอยู่ 5 ชนิดดังนี้\n",
    "1. **Numbers** มูลตัวเลข\n",
    "1. **String** ข้อมูลอักขระ\n",
    "1. **List** เก็บข้อมูลได้มากว่า 1 ค่าใน 1 ตัวแปร หรือที่เรียกว่า compound type\n",
    "1. **Tuple** อ่านว่า \"ทูเพิล\" เก็บข้อมูลได้มากว่า 1 ค่าใน 1 ตัวแปร ใช้สำหรับเก็บลำดับ หรือที่เรียกว่า sequence type\n",
    "1. **Dictionary** เก็บข้อมูลได้มากว่า 1 ค่าใน 1 ตัวแปรเช่นกัน หรือที่เรียกว่า table type"
   ]
  },
  {
   "cell_type": "markdown",
   "metadata": {},
   "source": [
    "<hr/>"
   ]
  },
  {
   "cell_type": "markdown",
   "metadata": {},
   "source": [
    "## Python - Numbers\n",
    "\n",
    "ไพทอนรองรับข้อมูลชนิดตัวเลขทั้ง 4 ชนิดดังนี้\n",
    "\n",
    "**int** (signed integers) − เรามักเรียกข้อมูลประเภทนี้ว่า จำนวนเต็ม (Integer), ซึ่งเป็นได้ทั้งตัวเลขจำนวนเต็มบวก หรือเต็มลบก็ได้ ในระบบเลขฐาน 10.\n",
    "\n",
    "\n",
    "**long** (long integers) − เป็นข้อมูลจำนวนเต็มที่ไม่ได้จำกัดขนาด แต่จะเขียนตามด้วยตัว L ตัวเล็กหรือตัวใหญ่ก็ได้.\n",
    "\n",
    "\n",
    "**float** (floating point real values) − เป็นข้อมูลตัวเลขประเภทจำนวนจริง ซึ่งจะเรียนในรูปแบบตัวเลขทศนิยม และ Floats อาจใช้เขียนในรูปแบบสัญลักษณ์ทางวิทยาศาสตร์ ซึ่งใช้ E หรือ e ในการแทนเลขยกกำลัง 10 (2.5e2 = 2.5 x 102 = 250).\n",
    "\n",
    "**complex** (complex numbers) − คือข้อมูลที่ถูกเขียนในรูปของ a + bJ, โดย a และ b คือจำนวนจริง และ J คือค่ารากที่สองของ -1 โดย Complex numbers ไม่ค่อยได้ถูกใช้ในการเขียนโปรแกรมในภาษาไพทอน\n",
    "\n",
    "\n",
    "**หมายเหตุ** ใน Python 3 ข้อมูลชนิด long ถูกตัดออกไป"
   ]
  },
  {
   "cell_type": "code",
   "execution_count": 36,
   "metadata": {},
   "outputs": [
    {
     "name": "stdout",
     "output_type": "stream",
     "text": [
      "<class 'int'>\n",
      "<class 'float'>\n",
      "<class 'complex'>\n"
     ]
    }
   ],
   "source": [
    "## Integer\n",
    "print(type(10))\n",
    "\n",
    "# Float\n",
    "print(type(15.20))\n",
    "\n",
    "# Complex\n",
    "print(type(9.322e-36j))"
   ]
  },
  {
   "cell_type": "markdown",
   "metadata": {},
   "source": [
    "### การแปลงข้อมูลตัวเลข\n",
    "\n",
    "1. Type **int(x)** เป็นการแปลง x ให้อยู่ในรูปแบบจำนวนเต็ม.\n",
    "\n",
    "1. Type **float(x)** เป็นการแปลง x ให้อยู่ในรูปแบบจำนวนจริง (เลขทศนิยม).\n",
    "\n",
    "1. Type **complex(x)** เป็นการแปลง x เป็นจำนวนเชิงซ้อนกับส่วนจริง x และศูนย์ส่วนจินตภาพ.\n",
    "\n",
    "1. Type **complex(x, y)** เป็นการแปลง x และ y เป็นจำนวนเชิงซ้อนกับส่วนจริง x และ y ส่วนจินตภาพ x และ y เป็นนิพจน์ตัวเลข."
   ]
  },
  {
   "cell_type": "code",
   "execution_count": 40,
   "metadata": {},
   "outputs": [
    {
     "data": {
      "text/plain": [
       "10"
      ]
     },
     "execution_count": 40,
     "metadata": {},
     "output_type": "execute_result"
    }
   ],
   "source": [
    "x = 10.5\n",
    "int(x)"
   ]
  },
  {
   "cell_type": "code",
   "execution_count": 42,
   "metadata": {},
   "outputs": [
    {
     "data": {
      "text/plain": [
       "2"
      ]
     },
     "execution_count": 42,
     "metadata": {},
     "output_type": "execute_result"
    }
   ],
   "source": [
    "x = 2.58\n",
    "int(x)"
   ]
  },
  {
   "cell_type": "code",
   "execution_count": 45,
   "metadata": {},
   "outputs": [
    {
     "data": {
      "text/plain": [
       "(10+0j)"
      ]
     },
     "execution_count": 45,
     "metadata": {},
     "output_type": "execute_result"
    }
   ],
   "source": [
    "x = 10\n",
    "complex(x)"
   ]
  },
  {
   "cell_type": "code",
   "execution_count": 44,
   "metadata": {},
   "outputs": [
    {
     "data": {
      "text/plain": [
       "(10+2j)"
      ]
     },
     "execution_count": 44,
     "metadata": {},
     "output_type": "execute_result"
    }
   ],
   "source": [
    "x = 10\n",
    "complex(x, 2)"
   ]
  },
  {
   "cell_type": "markdown",
   "metadata": {},
   "source": [
    "### ฟังก์ชันทางคณิตศาสตร์"
   ]
  },
  {
   "cell_type": "markdown",
   "metadata": {},
   "source": [
    "**abs(x)**<br/>\n",
    "ค่าสัมบูรณ์ของ x: ระยะทาง (บวก) ระหว่าง x และศูนย์"
   ]
  },
  {
   "cell_type": "code",
   "execution_count": 52,
   "metadata": {},
   "outputs": [
    {
     "data": {
      "text/plain": [
       "10"
      ]
     },
     "execution_count": 52,
     "metadata": {},
     "output_type": "execute_result"
    }
   ],
   "source": [
    "abs(-10)"
   ]
  },
  {
   "cell_type": "code",
   "execution_count": 50,
   "metadata": {},
   "outputs": [],
   "source": [
    "import math"
   ]
  },
  {
   "cell_type": "markdown",
   "metadata": {},
   "source": [
    "**math.log(x)**<br/>\n",
    "The natural logarithm of x, for x > 0."
   ]
  },
  {
   "cell_type": "code",
   "execution_count": 58,
   "metadata": {},
   "outputs": [
    {
     "data": {
      "text/plain": [
       "2.302585092994046"
      ]
     },
     "execution_count": 58,
     "metadata": {},
     "output_type": "execute_result"
    }
   ],
   "source": [
    "math.log(10)"
   ]
  },
  {
   "cell_type": "markdown",
   "metadata": {},
   "source": [
    "**math.log10(x)**<br/>\n",
    "The base-10 logarithm of x for x > 0."
   ]
  },
  {
   "cell_type": "code",
   "execution_count": 57,
   "metadata": {},
   "outputs": [
    {
     "data": {
      "text/plain": [
       "1.0"
      ]
     },
     "execution_count": 57,
     "metadata": {},
     "output_type": "execute_result"
    }
   ],
   "source": [
    "math.log10(10)"
   ]
  },
  {
   "cell_type": "markdown",
   "metadata": {},
   "source": [
    "**math.sqrt(x)**<br/>\n",
    "The square root of x for x > 0."
   ]
  },
  {
   "cell_type": "code",
   "execution_count": 64,
   "metadata": {},
   "outputs": [
    {
     "data": {
      "text/plain": [
       "1.4142135623730951"
      ]
     },
     "execution_count": 64,
     "metadata": {},
     "output_type": "execute_result"
    }
   ],
   "source": [
    "math.sqrt(2)"
   ]
  },
  {
   "cell_type": "markdown",
   "metadata": {},
   "source": [
    "Power of number"
   ]
  },
  {
   "cell_type": "code",
   "execution_count": 68,
   "metadata": {},
   "outputs": [
    {
     "data": {
      "text/plain": [
       "9"
      ]
     },
     "execution_count": 68,
     "metadata": {},
     "output_type": "execute_result"
    }
   ],
   "source": [
    "3**2"
   ]
  },
  {
   "cell_type": "markdown",
   "metadata": {},
   "source": [
    "<hr/>"
   ]
  },
  {
   "cell_type": "markdown",
   "metadata": {},
   "source": [
    "## Python - Strings\n",
    "\n",
    "สตริง หรือข้อมูลประเภทลำดับของอักขระ เป็นข้อมูลอีกประเภทที่นิยมใช้มากในภาษาไพธอน โดยที่เราสามารถสร้างได้ง่าย ๆ โดยการใส่ตัวอักษร หรือข้อความไว้ภายในในเครื่องหมายคำพูด (' ' หรือ \" \")  การสร้างข้อมูลประเภทสตริงสามารถทำได้โดยการกำหนดค่าให้กับตัวแปร ตัวอย่างเช่น -"
   ]
  },
  {
   "cell_type": "markdown",
   "metadata": {},
   "source": [
    "### การสร้างสตริงในภาษาไพธอน\n",
    "สตริงที่สามารถสร้างขึ้นได้โดยใส่ตัวอักษรไว้ภายในเครื่องหมายคำพูดเดี่ยว ('..') หรือเครื่องหมายคำพูดคู่ (\"..\") และคำพูดสาม (\"\"\"..\"\"\") สามารถใช้ในไพธอน แต่โดยทั่วไปใช้เพื่อแสดงสายอักขระแบบหลายบรรทัด"
   ]
  },
  {
   "cell_type": "code",
   "execution_count": 9,
   "metadata": {},
   "outputs": [
    {
     "name": "stdout",
     "output_type": "stream",
     "text": [
      "Hello\n",
      "Hello\n",
      "Hello\n",
      "Hello, welcome to\n",
      "           the world of Python\n"
     ]
    }
   ],
   "source": [
    "# การกำหนดค่าให้กับตัวแปรที่มีชนิดข้อมูลเป็นสตริง\n",
    "my_string = 'Hello'\n",
    "print(my_string)\n",
    "\n",
    "my_string = \"Hello\"\n",
    "print(my_string)\n",
    "\n",
    "my_string = '''Hello'''\n",
    "print(my_string)\n",
    "\n",
    "# triple quotes string สามารถใช้สำหรับการแสดงสตริงในหลายบรรทัด\n",
    "my_string = \"\"\"Hello, welcome to\n",
    "           the world of Python\"\"\"\n",
    "print(my_string)"
   ]
  },
  {
   "cell_type": "markdown",
   "metadata": {},
   "source": [
    "### การเข้าถึงอักขระในสตริง\n",
    "ภาษาไพธอนนั้นไม่สนับสนุนข้อมูลประเภทอักขระ (Character) โดยจะถือว่าข้อมูลอักขระแต่ละตัวนั้นถือว่าเป็นสตริงที่มีขนาดความยาวเท่ากับ 1 โดยในการเข้าถึงอักขระแต่ละตัวภายในสติงนั้นให้ใช้วงเล็บเหลี่ยม ( [ ] ) สำหรับการหั่น (Slide) ตามดัชนีหรือดัชนีการเข้าถึงอักขระภายในสตริง ตัวอย่างเช่น -"
   ]
  },
  {
   "cell_type": "code",
   "execution_count": 5,
   "metadata": {},
   "outputs": [
    {
     "name": "stdout",
     "output_type": "stream",
     "text": [
      "Hello World!\n",
      "H\n",
      "llo\n",
      "llo World!\n",
      "Hello World!Hello World!\n",
      "Hello World!TEST\n"
     ]
    }
   ],
   "source": [
    "str = 'Hello World!'\n",
    "\n",
    "print (str)          # พิมพ์สตริงตั้งหมด\n",
    "print (str[0])       # พิมพ์อักขระลำดับแรกของสตริง\n",
    "print (str[2:5])     # พิมพ์อักขระลำดับที่ 3 ถึงลำดับที่ 5 ภายในสตริง\n",
    "print (str[2:])      # พิมพ์อักขระลำดับที่ 3 จนถึงลำดับสุดท้ายภายในสตริง\n",
    "print (str * 2)      # พิมพ์สตริง จำนวน 2 ครั้ง\n",
    "print (str + \"TEST\") # พิมพ์สตริงโดยรวมสายอักขระเข้าด้วยกัน"
   ]
  },
  {
   "cell_type": "markdown",
   "metadata": {},
   "source": [
    "### การปรับปรุงสตริง\n",
    "\n",
    "เราสามารถ \"ปรับปรุง\" สตริงที่มีอยู่โดย (อีกครั้ง) การกำหนดตัวแปรให้กับสตริงอื่น ค่าใหม่อาจเกี่ยวข้องกับค่าก่อนหน้านี้หรือเป็นสตริงที่แตกต่างกันโดยสิ้นเชิง ตัวอย่างเช่น -"
   ]
  },
  {
   "cell_type": "code",
   "execution_count": 4,
   "metadata": {},
   "outputs": [
    {
     "name": "stdout",
     "output_type": "stream",
     "text": [
      "Updated String :-  Hello Python\n"
     ]
    }
   ],
   "source": [
    "var = 'Hello World!'\n",
    "print(\"Updated String :- \", var[:6] + 'Python')"
   ]
  },
  {
   "cell_type": "markdown",
   "metadata": {},
   "source": [
    "### การดำเนินการสตริง\n",
    "ข้อมูลประเภทสตริงนั้นสามารถมีการดำเนินการที่หลากหลาย ดังนี้"
   ]
  },
  {
   "cell_type": "markdown",
   "metadata": {},
   "source": [
    "#### การรวมสองหรือมากกว่าสตริง\n",
    "การรวมสตริงตั้งแต่สอง หรือมากกว่านั้นเข้าเป็นหนึ่งเดียวเรียกว่าการ concatenation\n",
    "\n",
    "โดยใช้ตัวดำเนินการบวก ( + ) เพียงแค่เขียนนำสตริงสองตัวดำเนิการเข้าด้วยกันก็จะถูกเชื่อมต่อกัน\n",
    "\n",
    "และโอเปอเรเตอร์คูณ ( * ) สามารถใช้เพื่อทำซ้ำสตริงได้หลายครั้ง"
   ]
  },
  {
   "cell_type": "code",
   "execution_count": 10,
   "metadata": {},
   "outputs": [
    {
     "name": "stdout",
     "output_type": "stream",
     "text": [
      "str1 + str2 =  HelloWorld!\n",
      "str1 * 3 = HelloHelloHello\n"
     ]
    }
   ],
   "source": [
    "str1 = 'Hello'\n",
    "str2 ='World!'\n",
    "\n",
    "# using +\n",
    "print('str1 + str2 = ', str1 + str2)\n",
    "\n",
    "# using *\n",
    "print('str1 * 3 =', str1 * 3)"
   ]
  },
  {
   "cell_type": "markdown",
   "metadata": {},
   "source": [
    "หรือถ้าเราต้องการต่อสตริงต่าง ๆ ที่มีหลายบรรทัด เราสามารถใช้วงเล็บในการดำเนินการได้"
   ]
  },
  {
   "cell_type": "code",
   "execution_count": 15,
   "metadata": {},
   "outputs": [
    {
     "name": "stdout",
     "output_type": "stream",
     "text": [
      "Hello World\n"
     ]
    }
   ],
   "source": [
    "# using parentheses\n",
    "s = ('Hello '\n",
    "     'World')\n",
    "print(s)"
   ]
  },
  {
   "cell_type": "markdown",
   "metadata": {},
   "source": [
    "### การวนซ้ำบนสตริง\n",
    "เราสามารถใช้การทำซ้ำผ่านสตริง จากตัวอย่างด้านล่างเป็นการวนซ้ำเพื่อนับจำนวน 'l' ที่อยู่ในสตริง"
   ]
  },
  {
   "cell_type": "code",
   "execution_count": 14,
   "metadata": {},
   "outputs": [
    {
     "name": "stdout",
     "output_type": "stream",
     "text": [
      "3 letters found\n"
     ]
    }
   ],
   "source": [
    "count = 0\n",
    "for letter in 'Hello World':\n",
    "    if(letter == 'l'):\n",
    "        count += 1\n",
    "print(count,'letters found')"
   ]
  },
  {
   "cell_type": "markdown",
   "metadata": {},
   "source": [
    "### การทดสอบสมาชิกในสตริง\n",
    "เราสามารถทดสอบว่ามีอักขระ หรือสตริงย่อยอยู่ภายในสตริงหรือไม่โดยใช้ keyword คือ in"
   ]
  },
  {
   "cell_type": "code",
   "execution_count": 16,
   "metadata": {},
   "outputs": [
    {
     "data": {
      "text/plain": [
       "True"
      ]
     },
     "execution_count": 16,
     "metadata": {},
     "output_type": "execute_result"
    }
   ],
   "source": [
    "'a' in 'program'"
   ]
  },
  {
   "cell_type": "code",
   "execution_count": 17,
   "metadata": {},
   "outputs": [
    {
     "data": {
      "text/plain": [
       "False"
      ]
     },
     "execution_count": 17,
     "metadata": {},
     "output_type": "execute_result"
    }
   ],
   "source": [
    "'at' not in 'battle'"
   ]
  },
  {
   "cell_type": "markdown",
   "metadata": {},
   "source": [
    "### การจัดรูปแบบสตริง"
   ]
  },
  {
   "cell_type": "markdown",
   "metadata": {},
   "source": [
    "***Escape Sequence***\n",
    "ถ้าเราต้องการพิมพ์ข้อความเช่น - He said, \"What's there?\" - เราไม่สามารถใช้เครื่องหมายคำพูดหรือคำพูดแบบคู่ได้ ซึ่งจะส่งผลให้เกิด SyntaxError เนื่องจากข้อความนั้นมีทั้งเครื่องหมายคำพูดแบบเดียว และแบบคู่"
   ]
  },
  {
   "cell_type": "code",
   "execution_count": 19,
   "metadata": {},
   "outputs": [
    {
     "ename": "SyntaxError",
     "evalue": "invalid syntax (<ipython-input-19-8c12110e6d8d>, line 2)",
     "output_type": "error",
     "traceback": [
      "\u001b[0;36m  File \u001b[0;32m\"<ipython-input-19-8c12110e6d8d>\"\u001b[0;36m, line \u001b[0;32m2\u001b[0m\n\u001b[0;31m    print(\"He said, \"What's there?\"\")\u001b[0m\n\u001b[0m                        ^\u001b[0m\n\u001b[0;31mSyntaxError\u001b[0m\u001b[0;31m:\u001b[0m invalid syntax\n"
     ]
    }
   ],
   "source": [
    "#ตัวอย่างที่เกิดข้อผิดพลาด\n",
    "print(\"He said, \"What's there?\"\")"
   ]
  },
  {
   "cell_type": "markdown",
   "metadata": {},
   "source": [
    "วิธีหนึ่งในการแก้ปัญหานี้คือการใช้เครื่องหมายคำพูดแบบสามตัว หรือเราสามารถใช้ escape sequence \n",
    "\n",
    "escape sequence เริ่มต้นด้วยเครื่องหมายแบ็กสแลช (\\) และถูกตีความแตกต่างกัน ถ้าเราใช้เครื่องคำพูดเดี่ยวเพื่อแทนสตริงจะต้องยกเว้นเครื่องหมายเดียวทั้งหมดภายในสตริง คล้ายกันคือกรณีที่มีเครื่องหมายคำพูดคู่ นี่คือวิธีที่สามารถทำได้เพื่อแสดงข้อความข้างต้น"
   ]
  },
  {
   "cell_type": "code",
   "execution_count": 20,
   "metadata": {},
   "outputs": [
    {
     "name": "stdout",
     "output_type": "stream",
     "text": [
      "He said, \"What's there?\"\n",
      "He said, \"What's there?\"\n",
      "He said, \"What's there?\"\n"
     ]
    }
   ],
   "source": [
    "# using triple quotes\n",
    "print('''He said, \"What's there?\"''')\n",
    "\n",
    "# escaping single quotes\n",
    "print('He said, \"What\\'s there?\"')\n",
    "\n",
    "# escaping double quotes\n",
    "print(\"He said, \\\"What's there?\\\"\")"
   ]
  },
  {
   "cell_type": "markdown",
   "metadata": {},
   "source": [
    "**เมธอด format()สำหรับการจัดรูปแบบแสดงผลของสตริง**\n",
    "\n",
    "เมธอด format() สามารถใช้งานกับสตริงอ็อบเจ็กต์ที่มีความหลากหลายและมีประสิทธิภาพในการจัดรูปแบบการแสดงผลของสตริง สตริงการจัดรูปแบบมีวงเล็บปีกกา {} เป็นตัวยึดตำแหน่ง หรือฟิลด์แทนที่ซึ่งจะถูกแทนที่\n",
    "\n",
    "ภายในเครื่องหมาย {} เราสามารถใช้อาร์กิวเมนต์ตัวเลขตำแหน่ง หรืออาร์กิวเมนต์คำหลักเพื่อระบุลำดับในการแสดงผลได้"
   ]
  },
  {
   "cell_type": "code",
   "execution_count": 21,
   "metadata": {},
   "outputs": [
    {
     "name": "stdout",
     "output_type": "stream",
     "text": [
      "\n",
      "--- Default Order ---\n",
      "John, Bill and Sean\n",
      "\n",
      "--- Positional Order ---\n",
      "Bill, John and Sean\n",
      "\n",
      "--- Keyword Order ---\n",
      "Sean, Bill and John\n"
     ]
    }
   ],
   "source": [
    "# default(implicit) order\n",
    "default_order = \"{}, {} and {}\".format('John','Bill','Sean')\n",
    "print('\\n--- Default Order ---')\n",
    "print(default_order)\n",
    "\n",
    "# order using positional argument\n",
    "positional_order = \"{1}, {0} and {2}\".format('John','Bill','Sean')\n",
    "print('\\n--- Positional Order ---')\n",
    "print(positional_order)\n",
    "\n",
    "# order using keyword argument\n",
    "keyword_order = \"{s}, {b} and {j}\".format(j='John',b='Bill',s='Sean')\n",
    "print('\\n--- Keyword Order ---')\n",
    "print(keyword_order)"
   ]
  },
  {
   "cell_type": "markdown",
   "metadata": {},
   "source": [
    "format() ผู้ใช้งานสามารถกำหนดทางเลือกในการแสดงผลสตริงได้อย่างหลากหลาย และจำเพาะเจาะจง\n",
    "\n",
    "ตัวอย่างเช่น สามารถใช้สัญลักพิเศษในการกำหนดรูปแบบการแสดงสตริงใช้ ชิดซ้าย <, ชิดขวา > หรือตรงกลาง ^ ได้\n",
    "\n",
    "นอกจากนี้เรายังสามารถจัดรูปแบบ integers เป็น binary, hexadecimal ฯลฯ \n",
    "\n",
    "และ floats สามารถปัดเศษหรือแสดงในรูปแบบเลขชี้กำลัง มีการจัดรูปแบบมากมายที่คุณสามารถใช้ได้"
   ]
  },
  {
   "cell_type": "code",
   "execution_count": 23,
   "metadata": {},
   "outputs": [
    {
     "data": {
      "text/plain": [
       "'Binary representation of 12 is 1100'"
      ]
     },
     "execution_count": 23,
     "metadata": {},
     "output_type": "execute_result"
    }
   ],
   "source": [
    "# formatting integers\n",
    "\"Binary representation of {0} is {0:b}\".format(12)"
   ]
  },
  {
   "cell_type": "code",
   "execution_count": 24,
   "metadata": {},
   "outputs": [
    {
     "data": {
      "text/plain": [
       "'Exponent representation: 1.566345e+03'"
      ]
     },
     "execution_count": 24,
     "metadata": {},
     "output_type": "execute_result"
    }
   ],
   "source": [
    "# formatting floats\n",
    "\"Exponent representation: {0:e}\".format(1566.345)"
   ]
  },
  {
   "cell_type": "code",
   "execution_count": 25,
   "metadata": {},
   "outputs": [
    {
     "data": {
      "text/plain": [
       "'One third is: 0.333'"
      ]
     },
     "execution_count": 25,
     "metadata": {},
     "output_type": "execute_result"
    }
   ],
   "source": [
    "# round off\n",
    "\"One third is: {0:.3f}\".format(1/3)"
   ]
  },
  {
   "cell_type": "code",
   "execution_count": 26,
   "metadata": {},
   "outputs": [
    {
     "data": {
      "text/plain": [
       "'|butter    |  bread   |       ham|'"
      ]
     },
     "execution_count": 26,
     "metadata": {},
     "output_type": "execute_result"
    }
   ],
   "source": [
    "# string alignment\n",
    "\"|{:<10}|{:^10}|{:>10}|\".format('butter','bread','ham')"
   ]
  },
  {
   "cell_type": "markdown",
   "metadata": {},
   "source": [
    "### String Method ที่มักใช้งานบ่อย\n",
    "\n",
    "String Method ที่มักใช้งานบ่อย เช่น  lower(), upper(), join(), split(), find(), replace() เป็นต้น"
   ]
  },
  {
   "cell_type": "code",
   "execution_count": 27,
   "metadata": {},
   "outputs": [
    {
     "data": {
      "text/plain": [
       "'programiz'"
      ]
     },
     "execution_count": 27,
     "metadata": {},
     "output_type": "execute_result"
    }
   ],
   "source": [
    "\"PrOgRaMiZ\".lower()"
   ]
  },
  {
   "cell_type": "code",
   "execution_count": 28,
   "metadata": {},
   "outputs": [
    {
     "data": {
      "text/plain": [
       "'PROGRAMIZ'"
      ]
     },
     "execution_count": 28,
     "metadata": {},
     "output_type": "execute_result"
    }
   ],
   "source": [
    "\"PrOgRaMiZ\".upper()"
   ]
  },
  {
   "cell_type": "code",
   "execution_count": 29,
   "metadata": {},
   "outputs": [
    {
     "data": {
      "text/plain": [
       "['This', 'will', 'split', 'all', 'words', 'into', 'a', 'list']"
      ]
     },
     "execution_count": 29,
     "metadata": {},
     "output_type": "execute_result"
    }
   ],
   "source": [
    "\"This will split all words into a list\".split()"
   ]
  },
  {
   "cell_type": "code",
   "execution_count": 30,
   "metadata": {},
   "outputs": [
    {
     "data": {
      "text/plain": [
       "'This will join all words into a string'"
      ]
     },
     "execution_count": 30,
     "metadata": {},
     "output_type": "execute_result"
    }
   ],
   "source": [
    "' '.join(['This', 'will', 'join', 'all', 'words', 'into', 'a', 'string'])"
   ]
  },
  {
   "cell_type": "code",
   "execution_count": 31,
   "metadata": {},
   "outputs": [
    {
     "data": {
      "text/plain": [
       "7"
      ]
     },
     "execution_count": 31,
     "metadata": {},
     "output_type": "execute_result"
    }
   ],
   "source": [
    "'Happy New Year'.find('ew')"
   ]
  },
  {
   "cell_type": "code",
   "execution_count": 32,
   "metadata": {},
   "outputs": [
    {
     "data": {
      "text/plain": [
       "'Brilliant New Year'"
      ]
     },
     "execution_count": 32,
     "metadata": {},
     "output_type": "execute_result"
    }
   ],
   "source": [
    "'Happy New Year'.replace('Happy','Brilliant')"
   ]
  },
  {
   "cell_type": "markdown",
   "metadata": {},
   "source": [
    "<hr/>"
   ]
  },
  {
   "cell_type": "markdown",
   "metadata": {},
   "source": [
    "## Python - List"
   ]
  },
  {
   "cell_type": "markdown",
   "metadata": {},
   "source": [
    "### วิธีการสร้าง List ในภาษาไพธอน\n",
    "\n",
    "ในการเขียนโปรแกรมภาษาไพธอน List จะถูกสร้างขึ้นโดยการวางไอเท็มทั้งหมด (element) ภายในวงเล็บเหลี่ยม [ ] โดยคั่นด้วยเครื่องหมายจุลภาค (,) และภายใน List นั้นสามารถมีสมาชิกจำนวนมาก และอาจมีหลากหลายประเภทข้อมูล (จำนวนเต็ม, จำนวนจริง, สตริง ฯลฯ )"
   ]
  },
  {
   "cell_type": "code",
   "execution_count": 34,
   "metadata": {},
   "outputs": [],
   "source": [
    "# empty list\n",
    "my_list = []\n",
    "\n",
    "# list of integers\n",
    "my_list = [1, 2, 3]\n",
    "\n",
    "# list with mixed datatypes\n",
    "my_list = [1, \"Hello\", 3.4]"
   ]
  },
  {
   "cell_type": "markdown",
   "metadata": {},
   "source": [
    "นอกจากนี้ภายใน List ยังสามารถมี List อื่นเป็นเป็นสมาชิกได้อีกด้วยซึ่งเรียกว่า Nested List"
   ]
  },
  {
   "cell_type": "code",
   "execution_count": 35,
   "metadata": {},
   "outputs": [],
   "source": [
    "# nested list\n",
    "my_list = [\"mouse\", [8, 4, 6], ['a']]"
   ]
  },
  {
   "cell_type": "markdown",
   "metadata": {},
   "source": [
    "### วิธีการเข้าถึงสมาชิก (Element) ภายใน List\n",
    "มีหลายวิธีที่เราสามารถเข้าถึงสมาชิกของ List ได้\n",
    "\n",
    "ดัชนีรายการ (Index)\n",
    "เราสามารถใช้ตัวดำเนินการดัชนี [ ] เพื่อเข้าถึงสมาชิกภายใน List ได้ โดยดัชนีเริ่มจาก 0 ดังนั้น List ที่มีสมาชิก 5 ตัว จะมีดัชนีตั้งแต่ 0 ถึง 4"
   ]
  },
  {
   "cell_type": "code",
   "execution_count": 36,
   "metadata": {},
   "outputs": [
    {
     "name": "stdout",
     "output_type": "stream",
     "text": [
      "p\n",
      "o\n",
      "e\n",
      "a\n",
      "5\n"
     ]
    }
   ],
   "source": [
    "my_list = ['p','r','o','b','e']\n",
    "# Output: p\n",
    "print(my_list[0])\n",
    "\n",
    "# Output: o\n",
    "print(my_list[2])\n",
    "\n",
    "# Output: e\n",
    "print(my_list[4])\n",
    "\n",
    "# Error! Only integer can be used for indexing\n",
    "# my_list[4.0]\n",
    "\n",
    "# Nested List\n",
    "n_list = [\"Happy\", [2,0,1,5]]\n",
    "\n",
    "# Nested indexing\n",
    "\n",
    "# Output: a\n",
    "print(n_list[0][1])    \n",
    "\n",
    "# Output: 5\n",
    "print(n_list[1][3])"
   ]
  },
  {
   "cell_type": "markdown",
   "metadata": {},
   "source": [
    "### การจัดทำดัชนีเชิงลบ (Negative indexing)\n",
    "\n",
    "โปรแกรมภาษาไพธอนช่วยช่วยอำนวนความสะดวกในการเข้าถึงสมาชิกที่อยู่ใน List ให้สามารถทำได้ง่ายขึ้น โดยอนุญาติให้มีการจัดทำดัชนีเชิงลบ โดย ดัชนี -1 หมายถึงรายการสุดท้ายภายใน List และ -2 ไปยังรายการสุดท้ายที่สองและอื่น ๆ"
   ]
  },
  {
   "cell_type": "code",
   "execution_count": 37,
   "metadata": {},
   "outputs": [
    {
     "name": "stdout",
     "output_type": "stream",
     "text": [
      "e\n",
      "p\n"
     ]
    }
   ],
   "source": [
    "my_list = ['p','r','o','b','e']\n",
    "\n",
    "# Output: e\n",
    "print(my_list[-1])\n",
    "\n",
    "# Output: p\n",
    "print(my_list[-5])"
   ]
  },
  {
   "cell_type": "code",
   "execution_count": null,
   "metadata": {},
   "outputs": [],
   "source": []
  }
 ],
 "metadata": {
  "kernelspec": {
   "display_name": "Python 3",
   "language": "python",
   "name": "python3"
  },
  "language_info": {
   "codemirror_mode": {
    "name": "ipython",
    "version": 3
   },
   "file_extension": ".py",
   "mimetype": "text/x-python",
   "name": "python",
   "nbconvert_exporter": "python",
   "pygments_lexer": "ipython3",
   "version": "3.6.5"
  }
 },
 "nbformat": 4,
 "nbformat_minor": 2
}
