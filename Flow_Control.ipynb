{
 "cells": [
  {
   "cell_type": "markdown",
   "metadata": {},
   "source": [
    "# การควบคุมขั้นตอนการทำงาน (Flow Control)"
   ]
  },
  {
   "cell_type": "markdown",
   "metadata": {},
   "source": [
    "การควบคุมขั้นตอนการทำงานของโปรแกรม คือกระบวนการลำดับการทำงานภายในซอสโค๊ดเพื่อให้โปรแกรมทำงานเป็นลำดับตามที่เราต้องการ \n",
    "\n",
    "การควบคุมการไหลของโปรแกรมในภาษาไพธอน จะถูกควบคุมโดยคำสั่งเงื่อนไข, ลูป และการเรียกฟังก์ชัน ส่วนนี้ครอบคลุมคำสั่ง if และ for และ while"
   ]
  },
  {
   "cell_type": "markdown",
   "metadata": {},
   "source": [
    "## if ... else ใน Python คืออะไร?\n",
    "\n",
    "คำสั่ง If ... elif ... else ถูกใช้ในโปรแกรมภาษาไพธอนสำหรับการตัดสินใจ\n",
    "\n",
    "การตัดสินใจเป็นสิ่งจำเป็นในกระบวนการทำงานของโปรแกรม หากในการทำงานนั้น ๆ เป็นการทำงานภายใต้เงื่อนไขบางอย่าง และจำเป็นต้องเลือกที่จะต้องทำงานอย่างใดอย่างหนึ่งในแต่ละเงื่อนไขเท่านั้น"
   ]
  },
  {
   "cell_type": "markdown",
   "metadata": {},
   "source": [
    "## if Statement "
   ]
  },
  {
   "cell_type": "markdown",
   "metadata": {},
   "source": [
    "if test expression:\n",
    "    statement(s)"
   ]
  },
  {
   "cell_type": "markdown",
   "metadata": {},
   "source": [
    "จากด้านบน โปรแกรมจะประเมินนิพจน์ และจะเรียกใช้คำสั่งเฉพาะเมื่อนิพจน์เป็นนั้นมีค่าเป็นจริง (True)\n",
    "\n",
    "หากนิพจน์นั้นมีค่าเป็นเท็จ (False) คำสั่งจะไม่ถูกดำเนินการ"
   ]
  },
  {
   "cell_type": "markdown",
   "metadata": {},
   "source": [
    "### ตัวอย่างของ if"
   ]
  },
  {
   "cell_type": "code",
   "execution_count": 6,
   "metadata": {},
   "outputs": [
    {
     "name": "stdout",
     "output_type": "stream",
     "text": [
      "3 is a positive number.\n",
      "This is always printed.\n",
      "This is also always printed.\n"
     ]
    }
   ],
   "source": [
    "# หากตัวเลขเป็นบวกโปรแกรมจะพิมพ์ข้อความที่กำหนด\n",
    "\n",
    "num = 3\n",
    "if num > 0:\n",
    "    print(num, \"is a positive number.\")\n",
    "\n",
    "print(\"This is always printed.\")\n",
    "\n",
    "num = -1\n",
    "if num > 0:\n",
    "    print(num, \"is a positive number.\")\n",
    "\n",
    "print(\"This is also always printed.\")"
   ]
  },
  {
   "cell_type": "markdown",
   "metadata": {},
   "source": [
    "ในตัวอย่างข้างต้น num > 0 คือนิพจน์ทดสอบ (test expression)\n",
    "\n",
    "ชุดคำสั่งที่อยู่ภายใน if จะถูกดำเนินการเฉพาะเมื่อนิพจน์นี้มีค่าเป็น True เท่านั้น\n",
    "\n",
    "เมื่อตัวแปร num เท่ากับ 3 นิพจน์ทดสอบ จะมีค่าเป็นจริง (True) และชุดคำสั่งภายใน if ทั้งหมดจะถูกดำเนินการ\n",
    "\n",
    "ถ้าตัวแปร num เท่ากับ -1 นิพจน์ทดสอบมีค่าเป็นเท็จ (False) และชุดคำสั่งภายใน if จะถูกข้ามไม่ทำงาน\n",
    "\n",
    "สำหรับคำสั่ง print( ) ซึ่งอยู่นอกส่วนของ if จะถูกสั่งให้ทำงานโดยไม่คำนึงถึงนิพจน์ทดสอบว่ามีค่าเป็นจริง หรือเท็จ"
   ]
  },
  {
   "cell_type": "markdown",
   "metadata": {},
   "source": [
    "## if...else Statement\n",
    "### Syntax of if...else"
   ]
  },
  {
   "cell_type": "code",
   "execution_count": null,
   "metadata": {},
   "outputs": [],
   "source": [
    "if test expression:\n",
    "    Body of if\n",
    "else:\n",
    "    Body of else"
   ]
  },
  {
   "cell_type": "markdown",
   "metadata": {},
   "source": [
    "คำสั่ง if ... else จะทำการประเมินค่าของนิพจน์ทดสอบ และดำเนินการทำคำสั่งภายในของเขตของ if เฉพาะเมื่อเงื่อนไขมีค่าเป็น True เท่านั้น\n",
    "\n",
    "หากเงื่อนไขเป็น False ชุดคำสั่งที่อยู่ภายในของเขตของ else จะถูกสั่งให้ทำงาน"
   ]
  },
  {
   "cell_type": "markdown",
   "metadata": {},
   "source": [
    "### ตัวอย่างของ if...else"
   ]
  },
  {
   "cell_type": "code",
   "execution_count": 9,
   "metadata": {},
   "outputs": [
    {
     "name": "stdout",
     "output_type": "stream",
     "text": [
      "Positive or Zero\n"
     ]
    }
   ],
   "source": [
    "# โปรแกรมตรวจสอบว่าหมายเลขเป็นบวกหรือลบ\n",
    "# และแสดงข้อความที่กำหนดไว้\n",
    "\n",
    "num = 3\n",
    "\n",
    "if num >= 0:\n",
    "    print(\"Positive or Zero\")\n",
    "else:\n",
    "    print(\"Negative number\")"
   ]
  },
  {
   "cell_type": "markdown",
   "metadata": {},
   "source": [
    "จากตัวอย่างข้างต้น เมื่อ num มีค่าเท่ากับ 3 นิพจน์ทดสอบจะมีค่าเป็นจริง และชุดคำสั่งภายใน if จะถูกเรียกใช้ และส่วนที่อยู่ภายใน else จะถูกข้ามไม่ทำงาน\n",
    "\n",
    "และถ้าตัวเลขเท่ากับ -5 นิพจน์ทดสอบจะมีค่าเป็นเท็จ จำทำให้ชุดคำสั่งในส่วนของ else จะถูกเรียกใช้งาน\n",
    "\n",
    "และถ้าตัวเลขเท่ากับ 0 นิพจน์ทดสอบมีค่าเป็นจริง และชุดคำสั่งภายใน if ถูกสั่งให้ทำงาน และข้ามชุดคำสั่งภายใน else ไป"
   ]
  },
  {
   "cell_type": "markdown",
   "metadata": {},
   "source": [
    "## if...elif...else Statement\n",
    "\n",
    "### Syntax of if...elif...else"
   ]
  },
  {
   "cell_type": "code",
   "execution_count": null,
   "metadata": {},
   "outputs": [],
   "source": [
    "if test expression:\n",
    "    Body of if\n",
    "elif test expression:\n",
    "    Body of elif\n",
    "else: \n",
    "    Body of else"
   ]
  },
  {
   "cell_type": "markdown",
   "metadata": {},
   "source": [
    "**ข้อสังเกตุ :**  ในภาษาไพธอน elif เป็นรูปย่อของ else..if \n",
    "\n",
    "โดย **if...elif...else** เป็น statement ที่ช่วยให้เราสามารถตรวจสอบนิพจน์มากว่า 1 นิพจน์ขึ้นไป\n",
    "\n",
    "ถ้านิพจน์เงื่อนไขมีค่าเป็น False จะทำการตรวจสอบเงื่อนไขของบล็อก elif ถัดไปและอื่น ๆ\n",
    "\n",
    "หากเงื่อนไขทั้งหมดเป็นเท็จ ชุดคำสั่งที่อยู่ภายใต้ else จะถูกสั่งให้ทำงาน\n",
    "\n",
    "ภายใน if ... elif ... else นั้นจะมีเพียงหนึ่งบล๊อกเท่านั้นที่ถูกเรียกใช้งานตามเงื่อนไขที่กำหนดไว้"
   ]
  },
  {
   "cell_type": "markdown",
   "metadata": {},
   "source": [
    "### ตัวอย่างของ if...elif...else"
   ]
  },
  {
   "cell_type": "code",
   "execution_count": 12,
   "metadata": {},
   "outputs": [
    {
     "name": "stdout",
     "output_type": "stream",
     "text": [
      "Positive number\n"
     ]
    }
   ],
   "source": [
    "# ในโปรแกรมนี้\n",
    "# เราตรวจสอบว่าตัวเลขเป็นบวกหรือไม่\n",
    "# เป็ฯลบ หรือศูนย์ และ\n",
    "# แสดงข้อความตามที่กำหนดไว้\n",
    "num = 3.4\n",
    "\n",
    "if num > 0:\n",
    "    print(\"Positive number\")\n",
    "elif num == 0:\n",
    "    print(\"Zero\")\n",
    "else:\n",
    "    print(\"Negative number\")"
   ]
  },
  {
   "cell_type": "markdown",
   "metadata": {},
   "source": [
    "เมื่อตัวแปร num มีค่าเป็นบวกจะมีการพิมพ์ข้อความเพื่อบวกว่าตัวเลขเป็นบวก\n",
    "\n",
    "และถ้าตัวเลขเท่ากับ 0 ศูนย์จะพิมพ์คำว่า \"Zero\"\n",
    "\n",
    "และหากตัวเลขเป็นค่าลบจำนวนพิมพ์ข้อความเพื่อบวกว่าตัวเลขเป็นลบ"
   ]
  },
  {
   "cell_type": "markdown",
   "metadata": {},
   "source": [
    "### คำสั่ง Nested if\n",
    "\n",
    "ภายในโปรแกรมนั้น เราสามารถมี if ... elif ... else ซ้อนอยู่ภายใต้ ... elif ... else statement ได้ ซึ่งรูปแบบการซ้อนกับของ statement นี้เรียกว่า Nested ในการเขียนโปรแกรมคอมพิวเตอร์\n",
    "\n",
    "statement เหล่านี้นั้นสามารถซ้อนอยู่ภายในกันได้ การเยื้องเป็นวิธีเดียวที่จะจำแนกระดับการซ้อนออกจากัน และหากมีการซ้อนแบบนี้เกิดขึ้นในโปรแกรมจำนวนมาก อาจทำให้เกิดความสับสนได้ดังนั้นต้องหลีกเลี่ยงหากทำได้"
   ]
  },
  {
   "cell_type": "markdown",
   "metadata": {},
   "source": [
    "### ตัวอย่าง Nested if"
   ]
  },
  {
   "cell_type": "code",
   "execution_count": 28,
   "metadata": {},
   "outputs": [
    {
     "name": "stdout",
     "output_type": "stream",
     "text": [
      "Enter a number: 10\n",
      "Positive number\n"
     ]
    }
   ],
   "source": [
    "# ในโปรแกรมนี้จะทำการรับค่าตัวเลขจากคีย์บอร์ด\n",
    "# เพื่อตรวจสอบว่าหมายเลขเป็นบวกหรือไม่\n",
    "# negative หรือ zero และ display\n",
    "# และแสดงข้อความที่กำหนดไว้\n",
    "# เวลานี้เราใช้ nested if\n",
    "\n",
    "num = float(input(\"Enter a number: \"))\n",
    "\n",
    "if num >= 0:\n",
    "    if num == 0:\n",
    "        print(\"Zero\")\n",
    "    else:\n",
    "        print(\"Positive number\")\n",
    "else:\n",
    "    print(\"Negative number\")"
   ]
  },
  {
   "cell_type": "markdown",
   "metadata": {},
   "source": [
    "<hr/>"
   ]
  },
  {
   "cell_type": "markdown",
   "metadata": {},
   "source": [
    "## การทำงานวนซ้ำ (Iterative)\n",
    "\n",
    "การทำงานวนซ้ำ (Iterative) หรือ Loop คือ การทำงานของโปรแกรมที่วนกลับมาที่เดิม จนกว่าจะถึงจุดที่เรากำหนดไว้ \n",
    "\n",
    "โดยการจะวนลูปได้นั้นก็จำเป็นต้องมีคำสั่งที่ใช้ในการวนลูป เช่น คำสั่ง for คำสั่ง while เป็นต้น"
   ]
  },
  {
   "cell_type": "markdown",
   "metadata": {},
   "source": [
    "### For Loop\n",
    "for ลูปในโปรแกรมภาษาไพธอน ถูกใช้การวนซ้ำบนข้อมูลประเภทลำดับ (List, Tuple, String) โดยการวนซ้ำตามลำดับเรียกว่า traversal"
   ]
  },
  {
   "cell_type": "markdown",
   "metadata": {},
   "source": [
    "### Syntax of for Loop"
   ]
  },
  {
   "cell_type": "code",
   "execution_count": null,
   "metadata": {},
   "outputs": [],
   "source": [
    "for val in sequence:\n",
    "\tBody of for"
   ]
  },
  {
   "cell_type": "markdown",
   "metadata": {},
   "source": [
    "โดย val คือตัวแปรที่ใช้ค่าของข้อมูลสมาชิกภายในลำดับ หรือ sequence ในแต่ละรอบ\n",
    "\n",
    "ลูปจะดำเนินต่อไปจนกว่าเราจะไปถึงรายการสุดท้ายในลำดับ ชุดคำสั่งที่ดำเนินการภายใต้ขอบเขตของ for นั้นจะใช้การเยื้องหน้าโดย tab"
   ]
  },
  {
   "cell_type": "markdown",
   "metadata": {},
   "source": [
    "### ตัวอย่างของ for Loop"
   ]
  },
  {
   "cell_type": "code",
   "execution_count": 19,
   "metadata": {},
   "outputs": [
    {
     "name": "stdout",
     "output_type": "stream",
     "text": [
      "The sum is 48\n"
     ]
    }
   ],
   "source": [
    "# โปรแกรมเพื่อหาจำนวนรวมของตัวเลขทั้งหมดที่จัดเก็บไว้ในรายการ\n",
    "\n",
    "# List of numbers\n",
    "numbers = [6, 5, 3, 8, 4, 2, 5, 4, 11]\n",
    "\n",
    "# ตัวแปรที่ใช้เก็บผลรวม\n",
    "sum = 0\n",
    "\n",
    "# iterate over the list\n",
    "for val in numbers:\n",
    "\tsum = sum + val\n",
    "\n",
    "# Output: The sum is 48\n",
    "print(\"The sum is\", sum)"
   ]
  },
  {
   "cell_type": "markdown",
   "metadata": {},
   "source": [
    "### ฟังก์ชัน range( )\n",
    "\n",
    "เราสามารถสร้างลำดับของตัวเลขโดยใช้ฟังก์ชัน range() เช่น range(10) จะทำการสร้างชุดตัวเลขตั้งแต่ 0 ถึง 9 (10 หมายเลข)\n",
    "\n",
    "นอกจากนี้เรายังสามารถกำหนดขนาดเริ่มต้น หยุด และระยะห่างของตัวเลข (เริ่ม, หยุด, ระยะห่างของตัวเลข) โดยระยะห่างของตัวเลข ถูกกำหนดค่าเริ่มต้นให้เป็นเป็น 1 เสมอ หากไม่ได้กำหนดให้เป็นค่าอื่น\n",
    "\n",
    "ฟังก์ชั่น range() นี้ไม่ได้ทำการเก็บค่าที่สร้างขึ้นทั้งหมดในหน่วยความจำ แต่สร้างขึ้นมาแสดงเพียงเท่านั้น ดังนั้นในการเก็บค่าที่ฟังก์ชั่น range() สร้างขึ้นมานั้นจะต้องใช้ฟังก์ชั่น list() ในการเก็บค่าเอาไว้ภายในตัวแปร\n",
    "\n",
    "ตัวอย่างต่อไปนี้จะชี้แจงเรื่องนี้"
   ]
  },
  {
   "cell_type": "code",
   "execution_count": 23,
   "metadata": {},
   "outputs": [
    {
     "name": "stdout",
     "output_type": "stream",
     "text": [
      "range(0, 10)\n",
      "[0, 1, 2, 3, 4, 5, 6, 7, 8, 9]\n",
      "[2, 3, 4, 5, 6, 7]\n",
      "[2, 5, 8, 11, 14, 17]\n",
      "[0, 1, 2, 3, 4, 5, 6, 7, 8, 9]\n"
     ]
    }
   ],
   "source": [
    "# ผลลัพธ์: range(0, 10)\n",
    "print(range(10))\n",
    "\n",
    "# ผลลัพธ์: [0, 1, 2, 3, 4, 5, 6, 7, 8, 9]\n",
    "print(list(range(10)))\n",
    "\n",
    "# ผลลัพธ์: [2, 3, 4, 5, 6, 7]\n",
    "print(list(range(2, 8)))\n",
    "\n",
    "# ผลลัพธ์: [2, 5, 8, 11, 14, 17]\n",
    "print(list(range(2, 20, 3)))\t\n",
    "\n",
    "# เก็บค่าที่สร้างขึ้นไว้ในตัวแปร val\n",
    "val = list(range(0, 10))\n",
    "print(val)"
   ]
  },
  {
   "cell_type": "markdown",
   "metadata": {},
   "source": [
    "เราสามารถใช้ฟังก์ชัน range() ในลูป for เพื่อสร้างลำดับของตัวเลขในการวนลูป โดยสามารถใช้ร่วมกับฟังก์ชัน len() เพื่อทำซ้ำ โดยการใช้งานร่วมกับการอ้างอิงค่าภายในลำดับผ่านดัชนี ดังนี้"
   ]
  },
  {
   "cell_type": "code",
   "execution_count": 24,
   "metadata": {},
   "outputs": [
    {
     "name": "stdout",
     "output_type": "stream",
     "text": [
      "I like pop\n",
      "I like rock\n",
      "I like jazz\n"
     ]
    }
   ],
   "source": [
    "genre = ['pop', 'rock', 'jazz']\n",
    "\n",
    "# iterate over the list using index\n",
    "for i in range(len(genre)):\n",
    "\tprint(\"I like\", genre[i])"
   ]
  },
  {
   "cell_type": "markdown",
   "metadata": {},
   "source": [
    "หรือใช้ลูป for ดึงค่าจากลำดับออกมาแสดง"
   ]
  },
  {
   "cell_type": "code",
   "execution_count": 25,
   "metadata": {},
   "outputs": [
    {
     "name": "stdout",
     "output_type": "stream",
     "text": [
      "I like pop\n",
      "I like rock\n",
      "I like jazz\n"
     ]
    }
   ],
   "source": [
    "genre = ['pop', 'rock', 'jazz']\n",
    "\n",
    "# iterate over the list using index\n",
    "for value in genre:\n",
    "\tprint(\"I like\", value)"
   ]
  },
  {
   "cell_type": "markdown",
   "metadata": {},
   "source": [
    "### while Loop\n",
    "\n",
    "while ลูปในภาษาโปรแกรมไพธอนนั้น ใช้สำหรับการทำซ้ำ ประภทที่ต้องมีการตรวจสอบเงื่อนไขก่อนการทำซ้ำ โดยนิพจน์เงื่อนไขนั้นจะต้องเป็นจริงเสมอจึงจะมีการทำซ้ำ\n",
    "\n",
    "เรามักใช้ while เมื่อเราไม่ทราบล่วงหน้าจำนวนครั้งที่จะทำซ้ำ"
   ]
  },
  {
   "cell_type": "markdown",
   "metadata": {},
   "source": [
    "### Syntax of while Loop"
   ]
  },
  {
   "cell_type": "code",
   "execution_count": null,
   "metadata": {},
   "outputs": [],
   "source": [
    "while test_expression:\n",
    "    Body of while"
   ]
  },
  {
   "cell_type": "markdown",
   "metadata": {},
   "source": [
    "ใน while ลูปนั้นจะมีการตรวจสอบนิพจน์ทดสอบก่อนเสมอ โดยจะมีการเข้ามาทำซ้ำในขอบเขตของ while ก็ต่อเมื่อ test_expression มีค่าเป็น True เท่านั้น \n",
    "\n",
    "หลังจากทำซ้ำแล้วจะมีการตรวจสอบนิพจน์ทดสอบอีกครั้ง กระบวนการนี้ยังคงดำเนินต่อไปจนกว่า test_expression จะมีค่าเป็น False\n",
    "\n",
    "ในโปรแกรมภาษาไพธอน ขอบเขตของ while ลูปจะถูกกำหนดโดยการเยื้อง\n",
    "\n",
    "โปรแกรมภาษาไพธอนจะทำการแปลค่าที่ไม่ใช่ศูนย์เป็น True และ 0 ถูกตีความว่าเป็น False"
   ]
  },
  {
   "cell_type": "markdown",
   "metadata": {},
   "source": [
    "### ตัวอย่างการใช้งาน while Loop"
   ]
  },
  {
   "cell_type": "code",
   "execution_count": 27,
   "metadata": {},
   "outputs": [
    {
     "name": "stdout",
     "output_type": "stream",
     "text": [
      "Enter n: 20\n",
      "The sum is 210\n"
     ]
    }
   ],
   "source": [
    "# โปรแกรมบวกจำนวนสะสมภายในช่วงข้อมูลที่กำหนด\n",
    "# sum = 1 + 2 + 3 + ... + n\n",
    "\n",
    "# เพื่อรับข้อมูลจากผู้ใช้\n",
    "n = int(input(\"Enter n: \"))\n",
    "\n",
    "# initialize sum and counter\n",
    "sum = 0\n",
    "i = 1\n",
    "\n",
    "while i <= n:\n",
    "    sum = sum + i\n",
    "    i = i+1    # update counter\n",
    "\n",
    "# print the sum\n",
    "print(\"The sum is\", sum)"
   ]
  },
  {
   "cell_type": "markdown",
   "metadata": {},
   "source": [
    "ในโปรแกรมข้างต้น นิพจน์เงื่อนไขจะเป็น True ตราบใดที่ตัวแปร i มีค่าน้อยกว่าหรือเท่ากับ n (จำนวนที่ผู้ใช้ป้อนเข้ามาในโปรแกรม)\n",
    "\n",
    "เราจำเป็นต้องเพิ่มค่าของตัวแปรตัวนับในลูป ซึ่งนี่เป็นสิ่งที่สำคัญมาก หากไม่มีการเพิ่มจำนวน i ขึ้นมาทีละ 1 ทุกครั้งที่วนลูปจะส่งผลให้มีการวนซ้ำแบบไม่มีที่สิ้นสุด"
   ]
  },
  {
   "cell_type": "markdown",
   "metadata": {},
   "source": [
    "<hr/>\n",
    "**Mr.Phisan Sookkhee**\n",
    "\n",
    "Sisaket Rajabhat University<br/>\n",
    "Department of Computer Science<br/> \n",
    "Faculty of Liberal Arts and Science<br/>\n",
    "\n",
    "E-mail : phisan.s@sskru.ac.th, phisan.shukkhi@gmail.com<br/>\n",
    "Website : http://phisan.sskru.ac.th<br/>\n",
    "Facebook : www.facebook/numvarn<br/>\n",
    "Skype : phisan.shukkhi<br/>\n",
    "Mobile Phone: 089-969-7483<br/>"
   ]
  }
 ],
 "metadata": {
  "kernelspec": {
   "display_name": "Python 3",
   "language": "python",
   "name": "python3"
  },
  "language_info": {
   "codemirror_mode": {
    "name": "ipython",
    "version": 3
   },
   "file_extension": ".py",
   "mimetype": "text/x-python",
   "name": "python",
   "nbconvert_exporter": "python",
   "pygments_lexer": "ipython3",
   "version": "3.6.5"
  }
 },
 "nbformat": 4,
 "nbformat_minor": 2
}
