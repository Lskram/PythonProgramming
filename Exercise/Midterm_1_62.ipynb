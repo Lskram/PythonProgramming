{
 "cells": [
  {
   "cell_type": "markdown",
   "metadata": {},
   "source": [
    "# ข้อสอบกลางภาควิชาการเขียนโปรแกรมคอมพิวเตอร์\n",
    "\n",
    "## ประจำภาคเรียนที่ 1/2562\n",
    "\n",
    "## ผู้สอน อาจารย์พิศาล สุขขี สาขาวิทยาการคอมพิวเตอร์"
   ]
  },
  {
   "cell_type": "markdown",
   "metadata": {},
   "source": [
    "<hr>"
   ]
  },
  {
   "cell_type": "raw",
   "metadata": {},
   "source": [
    "ผู้สอบ\n",
    "\n",
    "1. ชื่อ             นามสกุล            รหัสประจำตัว\n",
    "\n",
    "2. ชื่อ             นามสกุล            รหัสประจำตัว"
   ]
  },
  {
   "cell_type": "markdown",
   "metadata": {},
   "source": [
    "<hr />"
   ]
  },
  {
   "cell_type": "markdown",
   "metadata": {},
   "source": [
    "### ข้อที่ 1. การตรวจสอบชนิดของตัวแปร\n",
    "\n",
    "กำหนดให้"
   ]
  },
  {
   "cell_type": "code",
   "execution_count": 2,
   "metadata": {},
   "outputs": [],
   "source": [
    "a = 10\n",
    "b = \"Hello World\"\n",
    "c = 5.8"
   ]
  },
  {
   "cell_type": "code",
   "execution_count": null,
   "metadata": {},
   "outputs": [],
   "source": [
    "## พิมพ์โค๊ดคำตอบ\n",
    "\n"
   ]
  },
  {
   "cell_type": "raw",
   "metadata": {},
   "source": [
    "คำตอบที่ได้\n",
    "\n",
    "<class 'int'>\n",
    "<class 'str'>\n",
    "<class 'float'>"
   ]
  },
  {
   "cell_type": "markdown",
   "metadata": {},
   "source": [
    "### ข้อที่ 2. การแปลงชนิดข้อมูล\n",
    "\n",
    "กำหนดให้"
   ]
  },
  {
   "cell_type": "code",
   "execution_count": 4,
   "metadata": {},
   "outputs": [],
   "source": [
    "a = 100"
   ]
  },
  {
   "cell_type": "markdown",
   "metadata": {},
   "source": [
    "แจงแปลงให้ตัวแปร a มีชนิดข้อมูลเป็นจำนวนจริง"
   ]
  },
  {
   "cell_type": "code",
   "execution_count": 5,
   "metadata": {},
   "outputs": [],
   "source": [
    "## พิมพ์โค๊ดคำตอบ\n",
    "\n",
    "\n"
   ]
  },
  {
   "cell_type": "markdown",
   "metadata": {},
   "source": [
    "### ข้อที่ 3. การจัดการกับข้อมูลชนิดสตริง\n",
    "\n",
    "กำหนดให้"
   ]
  },
  {
   "cell_type": "code",
   "execution_count": 6,
   "metadata": {},
   "outputs": [],
   "source": [
    "str1 = 'Hello'\n",
    "str2 ='World!'"
   ]
  },
  {
   "cell_type": "markdown",
   "metadata": {},
   "source": [
    "จงดำเนินการกับ str1 และ str2 เพื่อให้ผลลัพธ์ที่ได้เป็นดังต่อไปนี้\n",
    "\n",
    "'HelloHelloWorld!World!'"
   ]
  },
  {
   "cell_type": "code",
   "execution_count": 9,
   "metadata": {},
   "outputs": [],
   "source": [
    "## พิมพ์โค๊ดคำตอบ\n",
    "\n"
   ]
  },
  {
   "cell_type": "markdown",
   "metadata": {},
   "source": [
    "### ข้อที่ 4. การเข้าถึงข้อมูลในสตริง\n",
    "\n",
    "กำหนดให้"
   ]
  },
  {
   "cell_type": "code",
   "execution_count": 10,
   "metadata": {},
   "outputs": [],
   "source": [
    "str1 = \"Python Programming Language\""
   ]
  },
  {
   "cell_type": "markdown",
   "metadata": {},
   "source": [
    "จงตัดคำว่า \"Programming\" ออกจาก str1"
   ]
  },
  {
   "cell_type": "code",
   "execution_count": 11,
   "metadata": {},
   "outputs": [],
   "source": [
    "## พิมพ์โค๊ดคำตอบ\n",
    "\n"
   ]
  },
  {
   "cell_type": "markdown",
   "metadata": {},
   "source": [
    "### ข้อที่ 5. การเพิ่มข้อมูลเข้าไปในลิสต์\n",
    "\n",
    "กำหนดให้"
   ]
  },
  {
   "cell_type": "code",
   "execution_count": 12,
   "metadata": {},
   "outputs": [],
   "source": [
    "lt = []"
   ]
  },
  {
   "cell_type": "markdown",
   "metadata": {},
   "source": [
    "จงเพิ่มข้อมูลต่อไปนี้เข้าไปในลิสต์ lt\n",
    "\n",
    "20\n",
    "\n",
    "3.5\n",
    "\n",
    "\"Python\"\n",
    "\n",
    "['a', 'b', 'c']"
   ]
  },
  {
   "cell_type": "code",
   "execution_count": 14,
   "metadata": {},
   "outputs": [],
   "source": [
    "## พิมพ์โค๊ดคำตอบ\n",
    "\n"
   ]
  },
  {
   "cell_type": "markdown",
   "metadata": {},
   "source": [
    "### ข้อที่ 6. การพิมพ์ข้อความออกทางหน้าจอ\n",
    "\n",
    "จงพิมพ์ข้อความต่อไปนี้ออกทางหน้าจอโดยใช้ฟังชัน print()\n",
    "\n",
    "He said, \"What's there?\""
   ]
  },
  {
   "cell_type": "code",
   "execution_count": 16,
   "metadata": {},
   "outputs": [],
   "source": [
    "## พิมพ์โค๊ดคำตอบ\n",
    "\n"
   ]
  },
  {
   "cell_type": "code",
   "execution_count": null,
   "metadata": {},
   "outputs": [],
   "source": []
  }
 ],
 "metadata": {
  "kernelspec": {
   "display_name": "Python 3",
   "language": "python",
   "name": "python3"
  },
  "language_info": {
   "codemirror_mode": {
    "name": "ipython",
    "version": 3
   },
   "file_extension": ".py",
   "mimetype": "text/x-python",
   "name": "python",
   "nbconvert_exporter": "python",
   "pygments_lexer": "ipython3",
   "version": "3.7.6"
  }
 },
 "nbformat": 4,
 "nbformat_minor": 2
}
