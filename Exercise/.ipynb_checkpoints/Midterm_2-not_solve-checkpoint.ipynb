{
 "cells": [
  {
   "cell_type": "markdown",
   "metadata": {},
   "source": [
    "## ข้อสอบกลางภาควิชา \"การเขียนโปรแกรมคอมพิวเตอร์\" \n",
    "\n",
    "### ประจำปีการศึกษา 1 / 2561\n",
    "\n",
    "### ผู้สอน อาจารย์พิศาล สุขขี สาขาวิชาวิทยาการคอมพิวเตอร์,​ มหาวิทยาลัยราชภัฏศรีสะเกษ"
   ]
  },
  {
   "cell_type": "markdown",
   "metadata": {},
   "source": [
    "<hr />"
   ]
  },
  {
   "cell_type": "raw",
   "metadata": {},
   "source": [
    "ให้นักศึกษาพิมพ์ ชื่อ - สกุล - รหัส ในช่องนี้\n",
    "\n"
   ]
  },
  {
   "cell_type": "markdown",
   "metadata": {},
   "source": [
    "<hr>"
   ]
  },
  {
   "cell_type": "markdown",
   "metadata": {},
   "source": [
    "# ข้อที่ 1. โปรแกรมจำแนกกลุ่มตัวเลข\n",
    "\n",
    "#### จงเขียนโปรแกรมสำหรับรับข้อมูลตัวเลขจากแป้นพิมพ์เข้ามาโดยโปรแกรมจะหยุดทำงานต่อเมื่อผู้ใช้ป้อนเลข 0 เข้า\n",
    "\n",
    "#### โดยมื่อรับข้อมูลตัวเลขเข้ามาแล้วให้ทำการจัดกลุ่มตัวเลขออกเป็นกลุ่มดังต่อไปนี้\n",
    "\n",
    "#### กลุ่มที่ 1 ตัวเลขที่น้อยกว่า 100\n",
    "#### กลุ่มที่ 2 ตัวเลขที่อยู่ระหว่าง 101 ถึง 200\n",
    "#### กลุ่มที่ 3 ตัวเลขที่มากกว่า 201 \n",
    "\n",
    "#### โดยจะแสดงตัวเลขทั้งหมดหลังจากผู้ใช้ป้อนเลข 0"
   ]
  },
  {
   "cell_type": "raw",
   "metadata": {},
   "source": [
    "ตัวอย่างผลลัพธ์โปรแกรม\n",
    "\n",
    "Enter number : 1\n",
    "Enter number : 2\n",
    "Enter number : 5\n",
    "Enter number : 150\n",
    "Enter number : 190\n",
    "Enter number : 201\n",
    "Enter number : 250\n",
    "Enter number : 0\n",
    "Group 1 :  [1, 2, 5]\n",
    "Group 2 :  [150, 190]\n",
    "Group 3 :  [201, 250]"
   ]
  },
  {
   "cell_type": "code",
   "execution_count": null,
   "metadata": {},
   "outputs": [],
   "source": [
    "\n",
    "\n"
   ]
  },
  {
   "cell_type": "markdown",
   "metadata": {},
   "source": [
    "<hr>"
   ]
  },
  {
   "cell_type": "markdown",
   "metadata": {},
   "source": [
    "## ข้อที่ 2. โปรแกรมคำนวณส่วนลดของสินค้า\n",
    "\n",
    "#### จงเขียนโปรแกรมที่รับราคาสินค้าเข้ามาจำนวน 5 ชิ้น และทำการคำนวนยอดรวมของสินค้า พร้อทคำนวนส่วนลด\n",
    "#### ถ้าราคารวมมากกว่า 1000 บาท จะมีส่วนลด ร้อยละ 10\n",
    "#### ถ้าราคารวมมากกว่า 700 บาท จะมีส่วนลด ร้อยละ 5\n",
    "#### ถ้าราคารวมมากกว่า 500 บาท จะมีส่วนลด ร้อยละ 3\n",
    "#### ถ้าราคารวมตำ่กว่า 500 บาท จะมีไม่มีส่วนลด"
   ]
  },
  {
   "cell_type": "raw",
   "metadata": {},
   "source": [
    "ตัวอย่างผลลัพธ์โปรแกรม\n",
    "\n",
    "Enter price : 500\n",
    "Enter price : 450\n",
    "Enter price : 300\n",
    "Enter price : 25\n",
    "Enter price : 39\n",
    "---------------------\n",
    "total price :  1314\n",
    "discount :  131.4\n",
    "pay :  1182.6"
   ]
  },
  {
   "cell_type": "code",
   "execution_count": null,
   "metadata": {},
   "outputs": [],
   "source": [
    "\n",
    "\n",
    "\n"
   ]
  },
  {
   "cell_type": "markdown",
   "metadata": {},
   "source": [
    "<hr />"
   ]
  },
  {
   "cell_type": "markdown",
   "metadata": {},
   "source": [
    "## ข้อที่ 3. โปรแกรมค้นหาคำ\n",
    "\n",
    "#### จากลิสต์ lt = [\"dog\", \"cat\", \"bat\", \"rat\", \"bird\", \"tiger\", \"rino\", \"warm\"]\n",
    "\n",
    "#### จงเขียนโปรแกรทเพื่อรับค่าจากแป้นพิมพ์เข้ามาเรื่อย ๆ และนำคำที่รับเข้ามาไปตรวจสอบว่ามีอยู่ในลิสต์อยู่หรือไม่\n",
    "\n",
    "#### หากพบให้แสดงคำว่า found\n",
    "#### หากไม่พบให้แสดงคำว่า not found\n",
    "\n",
    "#### และโปรแกรมจะหยุดทำงาเมื่อผู้ใช้ป้อนตัว q"
   ]
  },
  {
   "cell_type": "raw",
   "metadata": {},
   "source": [
    "ตัวอย่างโปรแกรม\n",
    "\n",
    "Enter word : dog\n",
    "Found\n",
    "Enter word : dug\n",
    "Not Found\n",
    "Enter word : warm\n",
    "Found\n",
    "Enter word : q"
   ]
  },
  {
   "cell_type": "code",
   "execution_count": null,
   "metadata": {},
   "outputs": [],
   "source": [
    "\n",
    "\n"
   ]
  }
 ],
 "metadata": {
  "kernelspec": {
   "display_name": "Python 3",
   "language": "python",
   "name": "python3"
  },
  "language_info": {
   "codemirror_mode": {
    "name": "ipython",
    "version": 3
   },
   "file_extension": ".py",
   "mimetype": "text/x-python",
   "name": "python",
   "nbconvert_exporter": "python",
   "pygments_lexer": "ipython3",
   "version": "3.6.1"
  }
 },
 "nbformat": 4,
 "nbformat_minor": 2
}
