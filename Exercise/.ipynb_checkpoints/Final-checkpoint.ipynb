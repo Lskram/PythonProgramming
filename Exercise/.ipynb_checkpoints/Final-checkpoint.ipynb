{
 "cells": [
  {
   "cell_type": "markdown",
   "metadata": {},
   "source": [
    "## ข้อสอบปลายภาควิชา \"การเขียนโปรแกรมคอมพิวเตอร์\" \n",
    "\n",
    "### ประจำปีการศึกษา 1 / 2561\n",
    "\n",
    "### ผู้สอน อาจารย์พิศาล สุขขี สาขาวิชาวิทยาการคอมพิวเตอร์,​ มหาวิทยาลัยราชภัฏศรีสะเกษ"
   ]
  },
  {
   "cell_type": "markdown",
   "metadata": {},
   "source": [
    "<hr />"
   ]
  },
  {
   "cell_type": "raw",
   "metadata": {},
   "source": [
    "ให้นักศึกษาพิมพ์ ชื่อ - สกุล - รหัส ในช่องนี้\n",
    "\n"
   ]
  },
  {
   "cell_type": "markdown",
   "metadata": {},
   "source": [
    "<hr>"
   ]
  },
  {
   "cell_type": "markdown",
   "metadata": {},
   "source": [
    "# ข้อที่ 1. ฟังก์ชันตรวจสอบจำนวนเลขคู่-เลขคี่\n",
    "\n",
    "#### จงเขียนฟังก์ชันที่รับค่าอาร์กิวเมนต์ที่เป็นจำนวนเต็ม และทำการเช็คว่าค่าที่รับเข้ามาเป็น \"เลขคี่\" หรือไม่ ถ้าใช่ให้ส่งคืนค่า True ออกมา และถ้าไม่ใช่ให้ส่งคืนค่า False\n",
    "\n",
    "#### โดยโปรแกรมหลักจะทำการวนซ้ำรับข้อมูลตัวเลขจำนวนเต็มจากแป้นพิมพ์เข้ามาเรื่อย ๆ และส่งให้ฟังก์ชันตรวจสอบ\n",
    "\n",
    "#### หากต้องการออกจากโปรแกรมให้ผู้ใช้งานป้อนตัวเลข 0"
   ]
  },
  {
   "cell_type": "raw",
   "metadata": {},
   "source": [
    "ตัวอย่างผลลัพธ์โปรแกรม\n",
    "\n",
    "Enter number : 2\n",
    "number 2 is False\n",
    "\n",
    "Enter number : 3\n",
    "number 3 is True\n",
    "\n",
    "Enter number : 4\n",
    "number 4 is False\n",
    "\n",
    "Enter number : 5\n",
    "number 5 is True"
   ]
  },
  {
   "cell_type": "code",
   "execution_count": 14,
   "metadata": {},
   "outputs": [
    {
     "name": "stdout",
     "output_type": "stream",
     "text": [
      "Enter number : 2\n",
      "number 2 is False\n",
      "Enter number : 3\n",
      "number 3 is True\n",
      "Enter number : 4\n",
      "number 4 is False\n",
      "Enter number : 5\n",
      "number 5 is True\n",
      "Enter number : 0\n"
     ]
    }
   ],
   "source": [
    "def checkValue(x):\n",
    "    if x % 2 != 0:\n",
    "        return True\n",
    "    else:\n",
    "        return False\n",
    "\n",
    "\n",
    "while True:\n",
    "    value = int(input(\"Enter number : \"))\n",
    "    if value == 0:\n",
    "        break\n",
    "    else:\n",
    "        "
   ]
  },
  {
   "cell_type": "markdown",
   "metadata": {},
   "source": [
    "<hr>"
   ]
  },
  {
   "cell_type": "markdown",
   "metadata": {},
   "source": [
    "## ข้อที่ 2. ค้นหาคำที่ยาวที่สุดภายในไฟล์\n",
    "\n",
    "#### จงเขียนโปรแกรมเพื่ออ่านไฟล์ และค้นหาคำที่ยาวที่สุดภายในไฟล์\n",
    "#### ฟังก์ชัน len() เป็นฟังก์ชันสำหรับหาขนาดของสตริง \n",
    "\n",
    "\n",
    "#### โดยสร้างไฟล์จากข้อความด้านล่างต่อไปนี้\n",
    "\n",
    "(CNN)A lawyer representing the woman claiming Cristiano Ronaldo, one of the world's biggest soccer stars, raped her in a Las Vegas hotel room in 2009 has said the accusation is not \"fake news.\"\n",
    "\n",
    "Kathryn Mayorga says the Portuguese footballer, who now plays for Italian club Juventus, raped her while she repeatedly screamed no, according to a lawsuit filed Friday in Clark County, Nevada.\n",
    "After the attack, according to the lawsuit, Ronaldo apologized, \"stating he was sorry, he was usually a gentleman.\""
   ]
  },
  {
   "cell_type": "raw",
   "metadata": {},
   "source": [
    "ตัวอย่างผลลัพธ์โปรแกรม\n",
    "\n",
    "Longest word in file is : representing"
   ]
  },
  {
   "cell_type": "code",
   "execution_count": 15,
   "metadata": {},
   "outputs": [
    {
     "name": "stdout",
     "output_type": "stream",
     "text": [
      "Longest word in file is : representing\n"
     ]
    }
   ],
   "source": [
    "path = \"./count.txt\"\n",
    "longer = ''\n",
    "with open(path) as f:\n",
    "    line = f.readline()\n",
    "    while line:\n",
    "        \n",
    "        for words in :\n",
    "            if len(longer) < len(words):\n",
    "                longer = \n",
    "        line = f.readline()\n",
    "\n",
    "print(\"Longest word in file is : {}\".format(longer))"
   ]
  },
  {
   "cell_type": "markdown",
   "metadata": {},
   "source": [
    "<hr />"
   ]
  },
  {
   "cell_type": "markdown",
   "metadata": {},
   "source": [
    "## ข้อที่ 3. โปรแกรมเขียนไฟล์\n",
    "\n",
    "#### จากลิสต์ lt = [\"dog\", \"cat\", \"bat\", \"rat\", \"bird\", \"tiger\", \"rino\", \"warm\"]\n",
    "\n",
    "#### จงเขียนโปรแกรมเพื่อนำข้อมูลที่อยู่ในลิสต์ด้านบนเขียนลงบนไฟล์ที่อยู่บน Desktop\n",
    "\n",
    "#### โดยในหนึ่งบรรทัดให้มีข้อมูลเพียงหนึ่งตัวเท่านั้น\n",
    "\n",
    "#### note การขึ้นบรรทัดใหม่ในไฟล์ใช้ \\n"
   ]
  },
  {
   "cell_type": "raw",
   "metadata": {},
   "source": [
    "ตัวอย่างโปรแกรม\n",
    "ข้อมูลที่อยู่ในไฟล์\n",
    "\n",
    "dog\n",
    "cat\n",
    "bat\n",
    "rat\n",
    "bird\n",
    "tiger\n",
    "rino\n",
    "warm"
   ]
  },
  {
   "cell_type": "code",
   "execution_count": 17,
   "metadata": {},
   "outputs": [],
   "source": [
    "lt = [\"dog\", \"cat\", \"bat\", \"rat\", \"bird\", \"tiger\", \"rino\", \"warm\"]\n",
    "\n",
    "path = \"\"\n",
    "for value in :\n",
    "    value = value+\"\\n\"\n",
    "    with open(, 'a') as :\n",
    "        f."
   ]
  },
  {
   "cell_type": "code",
   "execution_count": null,
   "metadata": {},
   "outputs": [],
   "source": []
  }
 ],
 "metadata": {
  "kernelspec": {
   "display_name": "Python 3",
   "language": "python",
   "name": "python3"
  },
  "language_info": {
   "codemirror_mode": {
    "name": "ipython",
    "version": 3
   },
   "file_extension": ".py",
   "mimetype": "text/x-python",
   "name": "python",
   "nbconvert_exporter": "python",
   "pygments_lexer": "ipython3",
   "version": "3.7.3"
  }
 },
 "nbformat": 4,
 "nbformat_minor": 2
}
