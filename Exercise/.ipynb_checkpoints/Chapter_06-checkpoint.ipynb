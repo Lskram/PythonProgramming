{
 "cells": [
  {
   "cell_type": "markdown",
   "metadata": {},
   "source": [
    "# แบบฝึกหัดบทที่ 6 : Expression and Operation"
   ]
  },
  {
   "cell_type": "markdown",
   "metadata": {},
   "source": [
    "กำหนดให้ X มีค่าเท่ากับ 5 จงหาเขียนนิพจน์ในโปรแกรมภาษาไพธอนเพื่อค่าผลลัพธ์ ต่อไปนี้"
   ]
  },
  {
   "cell_type": "code",
   "execution_count": 2,
   "metadata": {},
   "outputs": [
    {
     "name": "stdout",
     "output_type": "stream",
     "text": [
      "X is  5\n"
     ]
    }
   ],
   "source": [
    "x = 5\n",
    "print(\"X is \", x)"
   ]
  },
  {
   "cell_type": "markdown",
   "metadata": {},
   "source": [
    "<hr/>"
   ]
  },
  {
   "cell_type": "markdown",
   "metadata": {},
   "source": [
    "ข้อที่ 1. $\\frac{5 - \\frac{1}{X}}{4}$"
   ]
  },
  {
   "cell_type": "code",
   "execution_count": 3,
   "metadata": {},
   "outputs": [
    {
     "data": {
      "text/plain": [
       "1.2"
      ]
     },
     "execution_count": 3,
     "metadata": {},
     "output_type": "execute_result"
    }
   ],
   "source": [
    "(5 - (1 / x)) / 4"
   ]
  },
  {
   "cell_type": "markdown",
   "metadata": {},
   "source": [
    "<hr/>"
   ]
  },
  {
   "cell_type": "markdown",
   "metadata": {},
   "source": [
    "ข้อที่ 2. $\\sqrt{X}$"
   ]
  },
  {
   "cell_type": "code",
   "execution_count": 4,
   "metadata": {},
   "outputs": [
    {
     "data": {
      "text/plain": [
       "2.23606797749979"
      ]
     },
     "execution_count": 4,
     "metadata": {},
     "output_type": "execute_result"
    }
   ],
   "source": [
    "import math\n",
    "math.sqrt(x)"
   ]
  },
  {
   "cell_type": "markdown",
   "metadata": {},
   "source": [
    "<hr/>"
   ]
  },
  {
   "cell_type": "markdown",
   "metadata": {},
   "source": [
    "ข้อที่ 3. $\\sqrt{X^2 + 3X - 2}$"
   ]
  },
  {
   "cell_type": "code",
   "execution_count": 6,
   "metadata": {},
   "outputs": [
    {
     "data": {
      "text/plain": [
       "6.164414002968976"
      ]
     },
     "execution_count": 6,
     "metadata": {},
     "output_type": "execute_result"
    }
   ],
   "source": [
    "math.sqrt(x**2 + (3*x) - 2)"
   ]
  },
  {
   "cell_type": "markdown",
   "metadata": {},
   "source": [
    "<hr/>"
   ]
  },
  {
   "cell_type": "markdown",
   "metadata": {},
   "source": [
    "ข้อที่ 4. $X^4 + 4X^3 + 4X^2 - 2X + 3$"
   ]
  },
  {
   "cell_type": "code",
   "execution_count": 7,
   "metadata": {},
   "outputs": [
    {
     "data": {
      "text/plain": [
       "1218"
      ]
     },
     "execution_count": 7,
     "metadata": {},
     "output_type": "execute_result"
    }
   ],
   "source": [
    "x**4 + (4*x**3) + (4*x**2) - (2*x) + 3"
   ]
  },
  {
   "cell_type": "markdown",
   "metadata": {},
   "source": [
    "<hr/>"
   ]
  },
  {
   "cell_type": "markdown",
   "metadata": {},
   "source": [
    "## กำหนดค่าให้แก่ตัวแปรดังต่อไปนี้"
   ]
  },
  {
   "cell_type": "code",
   "execution_count": 9,
   "metadata": {
    "collapsed": true
   },
   "outputs": [],
   "source": [
    "a = 20\n",
    "b = 10\n",
    "c = 15\n",
    "d = 5"
   ]
  },
  {
   "cell_type": "markdown",
   "metadata": {},
   "source": [
    "## จงนำตัวแปรมาดำเนินการต่อกันเพื่อให้ได้คำตอบตามที่กำหนด"
   ]
  },
  {
   "cell_type": "markdown",
   "metadata": {},
   "source": [
    "### ต้องการผลการดำเนินการเท่ากับ 90"
   ]
  },
  {
   "cell_type": "code",
   "execution_count": 10,
   "metadata": {},
   "outputs": [
    {
     "data": {
      "text/plain": [
       "90.0"
      ]
     },
     "execution_count": 10,
     "metadata": {},
     "output_type": "execute_result"
    }
   ],
   "source": [
    "(a + b) * (c / d)"
   ]
  },
  {
   "cell_type": "markdown",
   "metadata": {},
   "source": [
    "### ต้องการผลการดำเนินการเท่ากับ 50"
   ]
  },
  {
   "cell_type": "code",
   "execution_count": 14,
   "metadata": {},
   "outputs": [
    {
     "data": {
      "text/plain": [
       "50"
      ]
     },
     "execution_count": 14,
     "metadata": {},
     "output_type": "execute_result"
    }
   ],
   "source": [
    "a + b + c + d"
   ]
  },
  {
   "cell_type": "code",
   "execution_count": 16,
   "metadata": {},
   "outputs": [
    {
     "name": "stdout",
     "output_type": "stream",
     "text": [
      "Enter your score : 79\n"
     ]
    }
   ],
   "source": [
    "'''\n",
    "กำหนดให้เขียนโปรแกรมรับคะแนนจากแป้นพิมพ์\n",
    "คำแนนเป็นเลขจำนวนเต็ม\n",
    "นำคะแนนมาตัดเกรด\n",
    "A -- 80 ถึง 100\n",
    "B -- 70 ถึง 79\n",
    "C -- 60 ถึง 69\n",
    "D -- 50 ถึง 59\n",
    "E -- ตำว่า 50\n",
    "'''\n",
    "\n",
    "score = int(input(\"Enter your score : \"))\n",
    "if score <= 100 and score >= 80:\n",
    "    print(\"A\")\n",
    "elif score <= 79 and score >= 70:\n",
    "    print(\"B\")"
   ]
  },
  {
   "cell_type": "markdown",
   "metadata": {},
   "source": [
    "<hr/>\n",
    "**Mr.Phisan Sookkhee**\n",
    "\n",
    "Sisaket Rajabhat University<br/>\n",
    "Department of Computer Science<br/> \n",
    "Faculty of Liberal Arts and Science<br/>\n",
    "\n",
    "E-mail : phisan.s@sskru.ac.th, phisan.shukkhi@gmail.com<br/>\n",
    "Website : http://phisan.sskru.ac.th<br/>\n",
    "Facebook : www.facebook/numvarn<br/>\n",
    "Skype : phisan.shukkhi<br/>\n",
    "Mobile Phone: 089-969-7483<br/>"
   ]
  }
 ],
 "metadata": {
  "kernelspec": {
   "display_name": "Python 3",
   "language": "python",
   "name": "python3"
  },
  "language_info": {
   "codemirror_mode": {
    "name": "ipython",
    "version": 3
   },
   "file_extension": ".py",
   "mimetype": "text/x-python",
   "name": "python",
   "nbconvert_exporter": "python",
   "pygments_lexer": "ipython3",
   "version": "3.6.1"
  }
 },
 "nbformat": 4,
 "nbformat_minor": 2
}
