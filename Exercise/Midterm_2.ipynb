{
 "cells": [
  {
   "cell_type": "markdown",
   "metadata": {},
   "source": [
    "## ข้อสอบกลางภาควิชา \"การเขียนโปรแกรมคอมพิวเตอร์\" \n",
    "\n",
    "### ประจำปีการศึกษา 1 / 2561\n",
    "\n",
    "### ผู้สอน อาจารย์พิศาล สุขขี สาขาวิชาวิทยาการคอมพิวเตอร์,​ มหาวิทยาลัยราชภัฏศรีสะเกษ"
   ]
  },
  {
   "cell_type": "markdown",
   "metadata": {},
   "source": [
    "<hr />"
   ]
  },
  {
   "cell_type": "raw",
   "metadata": {},
   "source": [
    "ให้นักศึกษาพิมพ์ ชื่อ - สกุล - รหัส ในช่องนี้\n",
    "\n"
   ]
  },
  {
   "cell_type": "markdown",
   "metadata": {},
   "source": [
    "<hr>"
   ]
  },
  {
   "cell_type": "markdown",
   "metadata": {},
   "source": [
    "# ข้อที่ 1. โปรแกรมจำแนกกลุ่มตัวเลข\n",
    "\n",
    "#### จงเขียนโปรแกรมสำหรับรับข้อมูลตัวเลขจากแป้นพิมพ์เข้ามาโดยโปรแกรมจะหยุดทำงานต่อเมื่อผู้ใช้ป้อนเลข 0 เข้า\n",
    "\n",
    "#### โดยมื่อรับข้อมูลตัวเลขเข้ามาแล้วให้ทำการจัดกลุ่มตัวเลขออกเป็นกลุ่มดังต่อไปนี้\n",
    "\n",
    "#### กลุ่มที่ 1 ตัวเลขที่น้อยกว่า 100\n",
    "#### กลุ่มที่ 2 ตัวเลขที่อยู่ระหว่าง 101 ถึง 200\n",
    "#### กลุ่มที่ 3 ตัวเลขที่มากกว่า 201 \n",
    "\n",
    "#### โดยจะแสดงตัวเลขทั้งหมดหลังจากผู้ใช้ป้อนเลข 0"
   ]
  },
  {
   "cell_type": "raw",
   "metadata": {},
   "source": [
    "ตัวอย่างผลลัพธ์โปรแกรม\n",
    "\n",
    "Enter number : 1\n",
    "Enter number : 2\n",
    "Enter number : 5\n",
    "Enter number : 150\n",
    "Enter number : 190\n",
    "Enter number : 201\n",
    "Enter number : 250\n",
    "Enter number : 0\n",
    "Group 1 :  [1, 2, 5]\n",
    "Group 2 :  [150, 190]\n",
    "Group 3 :  [201, 250]"
   ]
  },
  {
   "cell_type": "code",
   "execution_count": 1,
   "metadata": {},
   "outputs": [
    {
     "name": "stdout",
     "output_type": "stream",
     "text": [
      "Enter number : 1\n",
      "Enter number : 2\n",
      "Enter number : 5\n",
      "Enter number : 150\n",
      "Enter number : 190\n",
      "Enter number : 201\n",
      "Enter number : 250\n",
      "Enter number : 0\n",
      "Group 1 :  [1, 2, 5]\n",
      "Group 2 :  [150, 190]\n",
      "Group 3 :  [201, 250]\n"
     ]
    }
   ],
   "source": [
    "lt_1 = []\n",
    "lt_2 = []\n",
    "lt_3 = []\n",
    "\n",
    "while True:\n",
    "    inp = int(input(\"Enter number : \"))\n",
    "    if inp <= 0:\n",
    "        break\n",
    "    elif inp <= 100:\n",
    "        lt_1.append(inp)\n",
    "    elif inp >= 101 and inp <= 200:\n",
    "        lt_2.append(inp)\n",
    "    else:\n",
    "        lt_3.append(inp)\n",
    "\n",
    "print(\"Group 1 : \", lt_1)\n",
    "print(\"Group 2 : \", lt_2)\n",
    "print(\"Group 3 : \", lt_3)"
   ]
  },
  {
   "cell_type": "markdown",
   "metadata": {},
   "source": [
    "<hr>"
   ]
  },
  {
   "cell_type": "markdown",
   "metadata": {},
   "source": [
    "## ข้อที่ 2. โปรแกรมคำนวณส่วนลดของสินค้า\n",
    "\n",
    "#### จงเขียนโปรแกรมที่รับราคาสินค้าเข้ามาจำนวน 5 ชิ้น และทำการคำนวนยอดรวมของสินค้า พร้อทคำนวนส่วนลด\n",
    "#### ถ้าราคารวมมากกว่า 1000 บาท จะมีส่วนลด ร้อยละ 10\n",
    "#### ถ้าราคารวมมากกว่า 700 บาท จะมีส่วนลด ร้อยละ 5\n",
    "#### ถ้าราคารวมมากกว่า 500 บาท จะมีส่วนลด ร้อยละ 3\n",
    "#### ถ้าราคารวมตำ่กว่า 500 บาท จะมีไม่มีส่วนลด"
   ]
  },
  {
   "cell_type": "raw",
   "metadata": {},
   "source": [
    "ตัวอย่างผลลัพธ์โปรแกรม\n",
    "\n",
    "Enter price : 500\n",
    "Enter price : 450\n",
    "Enter price : 300\n",
    "Enter price : 25\n",
    "Enter price : 39\n",
    "---------------------\n",
    "total price :  1314\n",
    "discount :  131.4\n",
    "pay :  1182.6"
   ]
  },
  {
   "cell_type": "code",
   "execution_count": 3,
   "metadata": {},
   "outputs": [
    {
     "name": "stdout",
     "output_type": "stream",
     "text": [
      "Enter price : 500\n",
      "Enter price : 450\n",
      "Enter price : 300\n",
      "Enter price : 25\n",
      "Enter price : 39\n",
      "---------------------\n",
      "total price :  1314\n",
      "discount :  131.4\n",
      "pay :  1182.6\n"
     ]
    }
   ],
   "source": [
    "total = 0\n",
    "discount = 0\n",
    "\n",
    "for i in range(1, 6):\n",
    "    price = int(input(\"Enter price : \"))\n",
    "    total += price\n",
    "\n",
    "if total >= 1000:\n",
    "    discount = total * 0.1\n",
    "elif total >= 700:\n",
    "    discount = total * 0.05\n",
    "elif total >= 500:\n",
    "    discount = total * 0.03\n",
    "else:\n",
    "    discount = 0\n",
    "\n",
    "print(\"---------------------\")\n",
    "print(\"total price : \", total)\n",
    "print(\"discount : \", discount)\n",
    "print(\"pay : \", total-discount)"
   ]
  },
  {
   "cell_type": "markdown",
   "metadata": {},
   "source": [
    "<hr />"
   ]
  },
  {
   "cell_type": "markdown",
   "metadata": {},
   "source": [
    "## ข้อที่ 3. โปรแกรมค้นหาคำ\n",
    "\n",
    "#### จากลิสต์ lt = [\"dog\", \"cat\", \"bat\", \"rat\", \"bird\", \"tiger\", \"rino\", \"warm\"]\n",
    "\n",
    "#### จงเขียนโปรแกรทเพื่อรับค่าจากแป้นพิมพ์เข้ามาเรื่อย ๆ และนำคำที่รับเข้ามาไปตรวจสอบว่ามีอยู่ในลิสต์อยู่หรือไม่\n",
    "\n",
    "#### หากพบให้แสดงคำว่า found\n",
    "#### หากไม่พบให้แสดงคำว่า not found\n",
    "\n",
    "#### และโปรแกรมจะหยุดทำงาเมื่อผู้ใช้ป้อนตัว q"
   ]
  },
  {
   "cell_type": "raw",
   "metadata": {},
   "source": [
    "ตัวอย่างโปรแกรม\n",
    "\n",
    "Enter word : dog\n",
    "Found\n",
    "Enter word : dug\n",
    "Not Found\n",
    "Enter word : warm\n",
    "Found\n",
    "Enter word : q"
   ]
  },
  {
   "cell_type": "code",
   "execution_count": 5,
   "metadata": {},
   "outputs": [
    {
     "name": "stdout",
     "output_type": "stream",
     "text": [
      "Enter word : dog\n",
      "Found\n",
      "Enter word : dug\n",
      "Not Found\n",
      "Enter word : warm\n",
      "Found\n",
      "Enter word : q\n"
     ]
    }
   ],
   "source": [
    "lt = [\"dog\", \"cat\", \"bat\", \"rat\", \"bird\", \"tiger\", \"rino\", \"warm\"]\n",
    "while True:\n",
    "    inp = input(\"Enter word : \")\n",
    "    if inp == 'q':\n",
    "        break\n",
    "    elif inp in lt:\n",
    "        print(\"Found\")\n",
    "    else:\n",
    "        print(\"Not Found\")\n",
    "        "
   ]
  },
  {
   "cell_type": "code",
   "execution_count": null,
   "metadata": {
    "collapsed": true
   },
   "outputs": [],
   "source": []
  }
 ],
 "metadata": {
  "kernelspec": {
   "display_name": "Python 3",
   "language": "python",
   "name": "python3"
  },
  "language_info": {
   "codemirror_mode": {
    "name": "ipython",
    "version": 3
   },
   "file_extension": ".py",
   "mimetype": "text/x-python",
   "name": "python",
   "nbconvert_exporter": "python",
   "pygments_lexer": "ipython3",
   "version": "3.6.5"
  }
 },
 "nbformat": 4,
 "nbformat_minor": 2
}
