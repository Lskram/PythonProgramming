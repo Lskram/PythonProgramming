{
 "cells": [
  {
   "cell_type": "markdown",
   "metadata": {},
   "source": [
    "## ข้อสอบกลางภาควิชา \"การเขียนโปรแกรมคอมพิวเตอร์\" \n",
    "\n",
    "### ประจำปีการศึกษา 1 / 2561\n",
    "\n",
    "### ผู้สอน อาจารย์พิศาล สุขขี สาขาวิชาวิทยาการคอมพิวเตอร์,​ มหาวิทยาลัยราชภัฏศรีสะเกษ"
   ]
  },
  {
   "cell_type": "markdown",
   "metadata": {},
   "source": [
    "<hr />"
   ]
  },
  {
   "cell_type": "markdown",
   "metadata": {},
   "source": [
    "## ข้อที่ 1. จงพิมพ์ชื่อผู้สอบออกทางหน้าจอ (3 คะแนน)\n",
    "\n",
    "### ให้พิมพ์ชื่อผู้สอบออกทางหน้าจอด้วยคำสั่งภาษาไพธอนตามรูปแบบที่กำหนด\n",
    "\n",
    "โดยใช้ mathod format()"
   ]
  },
  {
   "cell_type": "raw",
   "metadata": {},
   "source": [
    "1. ชื่อ นายพิศาล____________ สุขขี_______________ รหัส 742333018___________ สาขาวิชา วิทยาการคอมพิวเตอร์___________\n",
    "2. ชื่อ นางสาวนรีกาญ________ ผลพิญโญ_____________ รหัส 742333019___________ สาขาวิชา วิทยาการคอมพิวเตอร์___________"
   ]
  },
  {
   "cell_type": "code",
   "execution_count": 9,
   "metadata": {},
   "outputs": [
    {
     "name": "stdout",
     "output_type": "stream",
     "text": [
      "ชื่อ นายพิศาล__ สุขขี_____ รหัส 742333018_ สาขา วิทยาการคอมพิวเตอร์\n"
     ]
    }
   ],
   "source": [
    "print(\"ชื่อ {0:_<10} {1:_<10} รหัส {2:_<10} สาขา {3:_<10}\".format(\"นายพิศาล\", \"สุขขี\", \"742333018\", \"วิทยาการคอมพิวเตอร์\"))"
   ]
  },
  {
   "cell_type": "markdown",
   "metadata": {},
   "source": [
    "<hr>"
   ]
  },
  {
   "cell_type": "markdown",
   "metadata": {},
   "source": [
    "## ข้อที่ 2. จงพิมพ์ค่า pi คือ 3.14159 ออกทางหน้าจอตามรูปแบบดังต่อไปนี้ (3 คะแนน)\n",
    "\n",
    "โดยใช้ format()\n",
    "\n",
    "#### pi = 3\n",
    "#### pi = 3.14\n",
    "#### pi = 3.1416"
   ]
  },
  {
   "cell_type": "code",
   "execution_count": 15,
   "metadata": {},
   "outputs": [
    {
     "name": "stdout",
     "output_type": "stream",
     "text": [
      "pi = 3\n",
      "pi = 3.14\n",
      "pi = 3.1416\n"
     ]
    }
   ],
   "source": [
    "pi = 3.14159\n",
    "print(\"pi = {0:.0f}\".format(pi))\n",
    "print(\"pi = {0:.2f}\".format(pi))\n",
    "print(\"pi = {0:.4f}\".format(pi))"
   ]
  },
  {
   "cell_type": "markdown",
   "metadata": {},
   "source": [
    "<hr />"
   ]
  },
  {
   "cell_type": "markdown",
   "metadata": {},
   "source": [
    "## ข้อที่ 3. จงเขียนโปรแกรมเพื่อรับค่า x และ y จากแป้นพิมพ์ และแสดงผลบวกของ x และ y ทางหน้าจอ \n",
    "## (3 คะแนน)"
   ]
  },
  {
   "cell_type": "raw",
   "metadata": {},
   "source": [
    "Enter x : 10\n",
    "Enter y : 5\n",
    "10 + 5 = 15"
   ]
  },
  {
   "cell_type": "code",
   "execution_count": 16,
   "metadata": {},
   "outputs": [
    {
     "name": "stdout",
     "output_type": "stream",
     "text": [
      "Enter x : 10\n",
      "Enter y : 5\n",
      "10 + 5 = 15\n"
     ]
    }
   ],
   "source": [
    "x = int(input(\"Enter x : \"))\n",
    "y = int(input(\"Enter y : \"))\n",
    "print(\"{} + {} = {}\".format(x, y, x+y))"
   ]
  },
  {
   "cell_type": "markdown",
   "metadata": {},
   "source": [
    "<hr />"
   ]
  },
  {
   "cell_type": "markdown",
   "metadata": {},
   "source": [
    "## ข้อที่ 4. แสดงดำเนินการกับตริงให้ได้ผลลัพธ์ดังต่อไปนี้ (3 คะแนน)"
   ]
  },
  {
   "cell_type": "raw",
   "metadata": {},
   "source": [
    "Computer\n",
    "ience\n",
    "! ecneicS retupmoC"
   ]
  },
  {
   "cell_type": "code",
   "execution_count": 17,
   "metadata": {
    "collapsed": true
   },
   "outputs": [],
   "source": [
    "str = \"Computer Science !\""
   ]
  },
  {
   "cell_type": "code",
   "execution_count": 18,
   "metadata": {},
   "outputs": [
    {
     "data": {
      "text/plain": [
       "'Computer'"
      ]
     },
     "execution_count": 18,
     "metadata": {},
     "output_type": "execute_result"
    }
   ],
   "source": [
    "str[0:8]"
   ]
  },
  {
   "cell_type": "code",
   "execution_count": 19,
   "metadata": {},
   "outputs": [
    {
     "data": {
      "text/plain": [
       "'ience'"
      ]
     },
     "execution_count": 19,
     "metadata": {},
     "output_type": "execute_result"
    }
   ],
   "source": [
    "str[11:16]"
   ]
  },
  {
   "cell_type": "code",
   "execution_count": 20,
   "metadata": {},
   "outputs": [
    {
     "data": {
      "text/plain": [
       "'! ecneicS retupmoC'"
      ]
     },
     "execution_count": 20,
     "metadata": {},
     "output_type": "execute_result"
    }
   ],
   "source": [
    "str[::-1]"
   ]
  },
  {
   "cell_type": "markdown",
   "metadata": {},
   "source": [
    "<hr />"
   ]
  },
  {
   "cell_type": "markdown",
   "metadata": {},
   "source": [
    "## ข้อที่ 5. จงเขียน expression ด้วยภาษาไพธอน (3 คะแนน)\n",
    "\n",
    "เพื่อหาค่าของ c โดยกำหนดให้\n",
    "\n",
    "a = 20 <br/>\n",
    "b = 15\n",
    "\n",
    "$$c = \\sqrt{a^2 + b^2}$$"
   ]
  },
  {
   "cell_type": "code",
   "execution_count": 21,
   "metadata": {},
   "outputs": [
    {
     "name": "stdout",
     "output_type": "stream",
     "text": [
      "25.0\n"
     ]
    }
   ],
   "source": [
    "import math\n",
    "\n",
    "a = 20\n",
    "b = 15\n",
    "\n",
    "c = math.sqrt(a**2 + b**2)\n",
    "print(c)"
   ]
  },
  {
   "cell_type": "markdown",
   "metadata": {},
   "source": [
    "<hr />"
   ]
  },
  {
   "cell_type": "markdown",
   "metadata": {},
   "source": [
    "## ข้อที่ 6. จงเขียนโปรแกรมเพื่อรับค่าจากแป้นพิมพ์ (5 คะแนน)\n",
    "\n",
    "ให้เขียนโปรแกรมเพื่อวนรับค่าจากแป้นพิมพ์ไปเรื่อย ๆ และจำไปเก็บไว้ใน list จนกว่าผู้ใช้งานจะกดปุ่ม 'q' \n",
    "\n",
    "และหลังจากนั้นให้ทำการนำค่าที่รับเข้ามาก่อนหน้าทั้งหมดแสดงออกทางหน้าจอ ดังตัวอย่าง"
   ]
  },
  {
   "cell_type": "raw",
   "metadata": {},
   "source": [
    "Enter value : a\n",
    "Enter value : b\n",
    "Enter value : c\n",
    "Enter value : d\n",
    "Enter value : e\n",
    "Enter value : q\n",
    "a b c d e "
   ]
  },
  {
   "cell_type": "code",
   "execution_count": 22,
   "metadata": {},
   "outputs": [
    {
     "name": "stdout",
     "output_type": "stream",
     "text": [
      "Enter value : a\n",
      "Enter value : b\n",
      "Enter value : c\n",
      "Enter value : d\n",
      "Enter value : e\n",
      "Enter value : q\n",
      "abcde"
     ]
    }
   ],
   "source": [
    "lt = []\n",
    "while True:\n",
    "    inp = input(\"Enter value : \")\n",
    "    if inp == 'q':\n",
    "        break\n",
    "    else:\n",
    "        lt.append(inp)\n",
    "for value in lt:\n",
    "    print(value, end=\"\")"
   ]
  },
  {
   "cell_type": "markdown",
   "metadata": {},
   "source": [
    "<hr />"
   ]
  },
  {
   "cell_type": "markdown",
   "metadata": {},
   "source": [
    "## ข้อที่ 7. จงหาค่าสูงสุด ค่าตำ่สุด และค่าเฉลี่ย (5 คะแนน)\n",
    "\n",
    "data = [29, 3, 11, 21, 45, 14, 14, 11, 2, 35, 28, 43, 21, 9, 34, 4, 7, 35, 25, 7]\n",
    "\n",
    "Min value is  :  2\n",
    "\n",
    "Max value is :  45\n",
    "\n",
    "Average value is :  19.9"
   ]
  },
  {
   "cell_type": "code",
   "execution_count": 23,
   "metadata": {},
   "outputs": [
    {
     "name": "stdout",
     "output_type": "stream",
     "text": [
      "Min is :  45\n",
      "Max is :  2\n",
      "Avg is :  19.9\n"
     ]
    }
   ],
   "source": [
    "data = [29, 3, 11, 21, 45, 14, 14, 11, 2, 35, 28, 43, 21, 9, 34, 4, 7, 35, 25, 7]\n",
    "\n",
    "value_min = data[0]\n",
    "value_max = data[0]\n",
    "total = 0\n",
    "\n",
    "for i in data:\n",
    "    if value_min < i:\n",
    "        value_min = i\n",
    "    elif value_max > i:\n",
    "        value_max = i\n",
    "    \n",
    "    total += i\n",
    "\n",
    "print(\"Min is : \", value_min)\n",
    "print(\"Max is : \", value_max)\n",
    "print(\"Avg is : \", total/len(data))"
   ]
  },
  {
   "cell_type": "markdown",
   "metadata": {},
   "source": [
    "<hr />"
   ]
  },
  {
   "cell_type": "markdown",
   "metadata": {},
   "source": [
    "## ข้อที่ 8. จงเขียนโปรแกรมเพื่อสร้างสรูปทรงดังต่อไปนี้ โดยใช้การวนซ้ำ (5 คะแนน)"
   ]
  },
  {
   "cell_type": "raw",
   "metadata": {},
   "source": [
    "*    *    *    *    *    \n",
    "*    \n",
    "*    \n",
    "*    \n",
    "*    *    *    *    *    "
   ]
  },
  {
   "cell_type": "code",
   "execution_count": 27,
   "metadata": {},
   "outputs": [
    {
     "name": "stdout",
     "output_type": "stream",
     "text": [
      "Enter size : 5\n",
      "*    *    *    *    *    \n",
      "*    \n",
      "*    \n",
      "*    \n",
      "*    *    *    *    *    \n"
     ]
    }
   ],
   "source": [
    "size = int(input(\"Enter size : \"))\n",
    "\n",
    "for i in range(0, size):\n",
    "    for j in range(0, size):\n",
    "        if i == 0 or i==size-1 or j == 0:\n",
    "            print(\"{0:<5}\".format(\"*\"), end=\"\")\n",
    "    print(\"\")"
   ]
  },
  {
   "cell_type": "code",
   "execution_count": null,
   "metadata": {
    "collapsed": true
   },
   "outputs": [],
   "source": []
  }
 ],
 "metadata": {
  "kernelspec": {
   "display_name": "Python 3",
   "language": "python",
   "name": "python3"
  },
  "language_info": {
   "codemirror_mode": {
    "name": "ipython",
    "version": 3
   },
   "file_extension": ".py",
   "mimetype": "text/x-python",
   "name": "python",
   "nbconvert_exporter": "python",
   "pygments_lexer": "ipython3",
   "version": "3.6.5"
  }
 },
 "nbformat": 4,
 "nbformat_minor": 2
}
