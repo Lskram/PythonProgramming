{
 "cells": [
  {
   "cell_type": "code",
   "execution_count": 5,
   "id": "861541ce-fd50-4381-b783-28fe7a38d69e",
   "metadata": {},
   "outputs": [
    {
     "name": "stdout",
     "output_type": "stream",
     "text": [
      "5050\n"
     ]
    }
   ],
   "source": [
    "# โปรแกรมที่ 1 บวกเลขสะสม\n",
    "result = 0\n",
    "for x in range(0, 101):\n",
    "    result += x\n",
    "print(result)"
   ]
  },
  {
   "cell_type": "code",
   "execution_count": 12,
   "id": "9b24a546-3213-4e49-8597-2d113c48810f",
   "metadata": {},
   "outputs": [],
   "source": [
    "lt = [1, 4, 6, 2, 5, 100, 8, 20, 500, 0]"
   ]
  },
  {
   "cell_type": "code",
   "execution_count": 13,
   "id": "0b650655-3387-41a0-ade7-9682a07500cd",
   "metadata": {},
   "outputs": [
    {
     "name": "stdout",
     "output_type": "stream",
     "text": [
      "max is 500 , min is 0\n"
     ]
    }
   ],
   "source": [
    "\"\"\"\n",
    "โปรแกรมหาค่าสูงสุด และค่าต่ำสุด\n",
    "input คือ ชุดข้อมูลที่ประกอบไปด้วย [1, 4, 6, 2, 5, 100, 8, 20]\n",
    "output คือ ค่าสูงสุด และ ค่าตำ่สุด\n",
    "ขั้นตอนวิธี\n",
    "1. กำหนดให้ min_value เท่ากับข้อมูลตัวแรกของชุดข้อมูล\n",
    "2. กำหนดให้ max_value เท่ากับข้อมูลตัวแรกของชุดข้อมูล\n",
    "3. ดึงข้อมูลออกจากชุดข้อมูลทีละ 1 ตัวเก็บไว้ใน x เพื่อทำการเปรียบเทียบ\n",
    "    3.1 ถ้า x น้อยกว่า min_value กำหนดให้ min_value = x\n",
    "    3.2 ถ้า x มากว่า max_value กำหนดให้ max_value = x\n",
    "4. ทำซ้ำข้อที่ 3 จนครบทุกข้อมูล\n",
    "\"\"\"\n",
    "min_value = max_value = lt[0]\n",
    "for x in lt:\n",
    "    if x < min_value:\n",
    "        min_value = x\n",
    "    elif x > max_value:\n",
    "        max_value = x\n",
    "        \n",
    "print(\"max is {} , min is {}\".format(max_value, min_value))"
   ]
  },
  {
   "cell_type": "code",
   "execution_count": 14,
   "id": "8a9cc483-2832-4478-bf04-4f80b700efa7",
   "metadata": {},
   "outputs": [
    {
     "name": "stdout",
     "output_type": "stream",
     "text": [
      "ค่าเฉลี่ยเท่ากับ : 64.6\n"
     ]
    }
   ],
   "source": [
    "sum_value = 0\n",
    "for x in lt:\n",
    "    sum_value += x\n",
    "    \n",
    "print(\"ค่าเฉลี่ยเท่ากับ : {}\".format(sum_value / len(lt)))"
   ]
  },
  {
   "cell_type": "code",
   "execution_count": 16,
   "id": "1b349e0b-8692-46a7-8b31-d5066a964788",
   "metadata": {},
   "outputs": [
    {
     "name": "stdout",
     "output_type": "stream",
     "text": [
      "1 3 5 7 9 11 13 15 17 19 21 23 25 27 29 31 33 35 37 39 41 43 45 47 49 51 53 55 57 59 61 63 65 67 69 71 73 75 77 79 81 83 85 87 89 91 93 95 97 99 "
     ]
    }
   ],
   "source": [
    "# odd เลขคี่ : หารสอง แล่้วไม่ลงตัว\n",
    "# even เลขคู่ : หารสอง แล้วลงตัว\n",
    "\n",
    "for x in range(1, 101):\n",
    "    if x % 2 != 0:\n",
    "        print(x, end=\" \")"
   ]
  },
  {
   "cell_type": "code",
   "execution_count": null,
   "id": "171e8ad7-af47-47e6-aa45-2e12ea923bf0",
   "metadata": {},
   "outputs": [],
   "source": [
    "for x in range(1, 51):\n",
    "    if x % 15 == 0:\n",
    "        print(\"FizzBuzz\")\n",
    "    elif x % 3 == 0:\n",
    "        print(\"Fizz\")\n",
    "    elif x % 5 == 0:\n",
    "        print(\"Buzz\")\n",
    "    else:\n",
    "        print(x)"
   ]
  },
  {
   "cell_type": "code",
   "execution_count": 21,
   "id": "8f9e36f4-1ff8-4961-84f8-e5ae6a5fb224",
   "metadata": {},
   "outputs": [
    {
     "name": "stdin",
     "output_type": "stream",
     "text": [
      "Enter number :  10\n"
     ]
    },
    {
     "name": "stdout",
     "output_type": "stream",
     "text": [
      "1\n",
      "22\n",
      "333\n",
      "4444\n",
      "55555\n",
      "666666\n",
      "7777777\n",
      "88888888\n",
      "999999999\n",
      "10101010101010101010\n"
     ]
    }
   ],
   "source": [
    "value = int(input(\"Enter number : \"))\n",
    "for x in range(1, value+1):\n",
    "    print(str(x)*x)"
   ]
  },
  {
   "cell_type": "code",
   "execution_count": null,
   "id": "8d6a8e8b-e968-477f-bd57-303b11dfb8f0",
   "metadata": {},
   "outputs": [],
   "source": [
    "1\n",
    "1 2\n",
    "1 2 3\n",
    "1 2 3 4\n",
    "1 2 3 4 5\n",
    "1 2 3 4 5 6"
   ]
  },
  {
   "cell_type": "code",
   "execution_count": 26,
   "id": "f39d3d9f-6692-4b4b-97aa-7691c7163cbf",
   "metadata": {},
   "outputs": [
    {
     "data": {
      "text/plain": [
       "[]"
      ]
     },
     "execution_count": 26,
     "metadata": {},
     "output_type": "execute_result"
    }
   ],
   "source": [
    "x = list(range(1, 1))\n",
    "x"
   ]
  },
  {
   "cell_type": "code",
   "execution_count": 28,
   "id": "6b43998d-8916-42d7-90eb-873f3251e302",
   "metadata": {},
   "outputs": [
    {
     "name": "stdin",
     "output_type": "stream",
     "text": [
      "enter number :  5\n"
     ]
    },
    {
     "name": "stdout",
     "output_type": "stream",
     "text": [
      "1 \n",
      "1 2 \n",
      "1 2 3 \n",
      "1 2 3 4 \n",
      "1 2 3 4 5 \n"
     ]
    }
   ],
   "source": [
    "value = int(input(\"enter number : \"))\n",
    "for x in range(1, value + 1):\n",
    "    for y in range(1, x + 1):\n",
    "        print(y, end=\" \")\n",
    "    print()"
   ]
  },
  {
   "cell_type": "code",
   "execution_count": 41,
   "id": "e4ba7614-d05c-40cd-9d38-025345abeaa8",
   "metadata": {},
   "outputs": [
    {
     "data": {
      "text/plain": [
       "False"
      ]
     },
     "execution_count": 41,
     "metadata": {},
     "output_type": "execute_result"
    }
   ],
   "source": [
    "money = 510\n",
    "money % 100 == 0"
   ]
  },
  {
   "cell_type": "code",
   "execution_count": 43,
   "id": "e98b9029-8119-4cea-8d8a-1300188f1baf",
   "metadata": {},
   "outputs": [
    {
     "name": "stdin",
     "output_type": "stream",
     "text": [
      "Input your money :  500\n"
     ]
    },
    {
     "name": "stdout",
     "output_type": "stream",
     "text": [
      "1000 : 0\n",
      "500 : 1\n",
      "100 : 0\n"
     ]
    }
   ],
   "source": [
    "# ATM\n",
    "money = int(input(\"Input your money : \"))\n",
    "if money % 100 == 0:\n",
    "    print(\"1000 : {}\".format(money // 1000))\n",
    "    print(\"500 : {}\".format((money % 1000) // 500))\n",
    "    print(\"100 : {}\".format(((money % 1000) % 500) // 100))\n",
    "else:\n",
    "    print(\"Error\")"
   ]
  },
  {
   "cell_type": "code",
   "execution_count": null,
   "id": "104fb078-c093-4d45-aae4-ea78701ea0b0",
   "metadata": {},
   "outputs": [],
   "source": []
  }
 ],
 "metadata": {
  "kernelspec": {
   "display_name": "Python 3 (ipykernel)",
   "language": "python",
   "name": "python3"
  },
  "language_info": {
   "codemirror_mode": {
    "name": "ipython",
    "version": 3
   },
   "file_extension": ".py",
   "mimetype": "text/x-python",
   "name": "python",
   "nbconvert_exporter": "python",
   "pygments_lexer": "ipython3",
   "version": "3.9.12"
  }
 },
 "nbformat": 4,
 "nbformat_minor": 5
}
